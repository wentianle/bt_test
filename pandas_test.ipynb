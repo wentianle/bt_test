{
 "cells": [
  {
   "cell_type": "code",
   "execution_count": 1,
   "id": "standing-assignment",
   "metadata": {},
   "outputs": [],
   "source": [
    "import numpy as np\n",
    "import pandas as pd"
   ]
  },
  {
   "cell_type": "code",
   "execution_count": 3,
   "id": "informative-programmer",
   "metadata": {},
   "outputs": [
    {
     "data": {
      "text/plain": [
       "0    1.0\n",
       "1    3.0\n",
       "2    5.0\n",
       "3    NaN\n",
       "4    6.0\n",
       "5    8.0\n",
       "dtype: float64"
      ]
     },
     "execution_count": 3,
     "metadata": {},
     "output_type": "execute_result"
    }
   ],
   "source": [
    "s = pd.Series([1, 3, 5, np.nan, 6, 8])\n",
    "s"
   ]
  },
  {
   "cell_type": "code",
   "execution_count": 4,
   "id": "sharing-frontier",
   "metadata": {},
   "outputs": [
    {
     "data": {
      "text/plain": [
       "DatetimeIndex(['2013-01-01', '2013-01-02', '2013-01-03', '2013-01-04',\n",
       "               '2013-01-05', '2013-01-06'],\n",
       "              dtype='datetime64[ns]', freq='D')"
      ]
     },
     "execution_count": 4,
     "metadata": {},
     "output_type": "execute_result"
    }
   ],
   "source": [
    "dates = pd.date_range('20130101', periods=6)\n",
    "dates"
   ]
  },
  {
   "cell_type": "code",
   "execution_count": 8,
   "id": "forced-asset",
   "metadata": {},
   "outputs": [
    {
     "data": {
      "text/html": [
       "<div>\n",
       "<style scoped>\n",
       "    .dataframe tbody tr th:only-of-type {\n",
       "        vertical-align: middle;\n",
       "    }\n",
       "\n",
       "    .dataframe tbody tr th {\n",
       "        vertical-align: top;\n",
       "    }\n",
       "\n",
       "    .dataframe thead th {\n",
       "        text-align: right;\n",
       "    }\n",
       "</style>\n",
       "<table border=\"1\" class=\"dataframe\">\n",
       "  <thead>\n",
       "    <tr style=\"text-align: right;\">\n",
       "      <th></th>\n",
       "      <th>A</th>\n",
       "      <th>B</th>\n",
       "      <th>C</th>\n",
       "      <th>D</th>\n",
       "      <th>E</th>\n",
       "    </tr>\n",
       "  </thead>\n",
       "  <tbody>\n",
       "    <tr>\n",
       "      <th>2013-01-01</th>\n",
       "      <td>-1.803280</td>\n",
       "      <td>0.676899</td>\n",
       "      <td>-1.738037</td>\n",
       "      <td>0.201467</td>\n",
       "      <td>0.238384</td>\n",
       "    </tr>\n",
       "    <tr>\n",
       "      <th>2013-01-02</th>\n",
       "      <td>0.106685</td>\n",
       "      <td>1.539657</td>\n",
       "      <td>0.002095</td>\n",
       "      <td>0.282269</td>\n",
       "      <td>-0.784882</td>\n",
       "    </tr>\n",
       "    <tr>\n",
       "      <th>2013-01-03</th>\n",
       "      <td>-0.167944</td>\n",
       "      <td>-0.324380</td>\n",
       "      <td>0.043311</td>\n",
       "      <td>-0.164594</td>\n",
       "      <td>0.380188</td>\n",
       "    </tr>\n",
       "    <tr>\n",
       "      <th>2013-01-04</th>\n",
       "      <td>0.453929</td>\n",
       "      <td>-0.349977</td>\n",
       "      <td>0.298247</td>\n",
       "      <td>0.020801</td>\n",
       "      <td>-1.343571</td>\n",
       "    </tr>\n",
       "    <tr>\n",
       "      <th>2013-01-05</th>\n",
       "      <td>0.207915</td>\n",
       "      <td>1.754589</td>\n",
       "      <td>1.622041</td>\n",
       "      <td>0.285814</td>\n",
       "      <td>0.305385</td>\n",
       "    </tr>\n",
       "    <tr>\n",
       "      <th>2013-01-06</th>\n",
       "      <td>2.382057</td>\n",
       "      <td>1.595250</td>\n",
       "      <td>0.576587</td>\n",
       "      <td>-0.508793</td>\n",
       "      <td>-2.379871</td>\n",
       "    </tr>\n",
       "  </tbody>\n",
       "</table>\n",
       "</div>"
      ],
      "text/plain": [
       "                   A         B         C         D         E\n",
       "2013-01-01 -1.803280  0.676899 -1.738037  0.201467  0.238384\n",
       "2013-01-02  0.106685  1.539657  0.002095  0.282269 -0.784882\n",
       "2013-01-03 -0.167944 -0.324380  0.043311 -0.164594  0.380188\n",
       "2013-01-04  0.453929 -0.349977  0.298247  0.020801 -1.343571\n",
       "2013-01-05  0.207915  1.754589  1.622041  0.285814  0.305385\n",
       "2013-01-06  2.382057  1.595250  0.576587 -0.508793 -2.379871"
      ]
     },
     "execution_count": 8,
     "metadata": {},
     "output_type": "execute_result"
    }
   ],
   "source": [
    "df = pd.DataFrame(np.random.randn(6, 5), index=dates, columns=list('ABCDE'))\n",
    "df"
   ]
  },
  {
   "cell_type": "code",
   "execution_count": 11,
   "id": "ruled-outdoors",
   "metadata": {},
   "outputs": [
    {
     "data": {
      "text/plain": [
       "A           float64\n",
       "B    datetime64[ns]\n",
       "C           float32\n",
       "D             int32\n",
       "E          category\n",
       "F            object\n",
       "dtype: object"
      ]
     },
     "execution_count": 11,
     "metadata": {},
     "output_type": "execute_result"
    }
   ],
   "source": [
    "df2 = pd.DataFrame({'A': 1.,\n",
    "   ...:                     'B': pd.Timestamp('20130102'),\n",
    "   ...:                     'C': pd.Series(1, index=list(range(4)), dtype='float32'),\n",
    "   ...:                     'D': np.array([3] * 4, dtype='int32'),\n",
    "   ...:                     'E': pd.Categorical([\"test\", \"train\", \"test\", \"train\"]),\n",
    "   ...:                     'F': 'foo'})\n",
    "\n",
    "df2\n",
    "df2.dtypes"
   ]
  },
  {
   "cell_type": "code",
   "execution_count": 18,
   "id": "arctic-entertainment",
   "metadata": {},
   "outputs": [
    {
     "data": {
      "text/html": [
       "<div>\n",
       "<style scoped>\n",
       "    .dataframe tbody tr th:only-of-type {\n",
       "        vertical-align: middle;\n",
       "    }\n",
       "\n",
       "    .dataframe tbody tr th {\n",
       "        vertical-align: top;\n",
       "    }\n",
       "\n",
       "    .dataframe thead th {\n",
       "        text-align: right;\n",
       "    }\n",
       "</style>\n",
       "<table border=\"1\" class=\"dataframe\">\n",
       "  <thead>\n",
       "    <tr style=\"text-align: right;\">\n",
       "      <th></th>\n",
       "      <th>A</th>\n",
       "      <th>B</th>\n",
       "      <th>C</th>\n",
       "      <th>D</th>\n",
       "      <th>E</th>\n",
       "    </tr>\n",
       "  </thead>\n",
       "  <tbody>\n",
       "    <tr>\n",
       "      <th>2013-01-01</th>\n",
       "      <td>-1.803280</td>\n",
       "      <td>0.676899</td>\n",
       "      <td>-1.738037</td>\n",
       "      <td>0.201467</td>\n",
       "      <td>0.238384</td>\n",
       "    </tr>\n",
       "    <tr>\n",
       "      <th>2013-01-02</th>\n",
       "      <td>0.106685</td>\n",
       "      <td>1.539657</td>\n",
       "      <td>0.002095</td>\n",
       "      <td>0.282269</td>\n",
       "      <td>-0.784882</td>\n",
       "    </tr>\n",
       "    <tr>\n",
       "      <th>2013-01-03</th>\n",
       "      <td>-0.167944</td>\n",
       "      <td>-0.324380</td>\n",
       "      <td>0.043311</td>\n",
       "      <td>-0.164594</td>\n",
       "      <td>0.380188</td>\n",
       "    </tr>\n",
       "    <tr>\n",
       "      <th>2013-01-04</th>\n",
       "      <td>0.453929</td>\n",
       "      <td>-0.349977</td>\n",
       "      <td>0.298247</td>\n",
       "      <td>0.020801</td>\n",
       "      <td>-1.343571</td>\n",
       "    </tr>\n",
       "    <tr>\n",
       "      <th>2013-01-05</th>\n",
       "      <td>0.207915</td>\n",
       "      <td>1.754589</td>\n",
       "      <td>1.622041</td>\n",
       "      <td>0.285814</td>\n",
       "      <td>0.305385</td>\n",
       "    </tr>\n",
       "  </tbody>\n",
       "</table>\n",
       "</div>"
      ],
      "text/plain": [
       "                   A         B         C         D         E\n",
       "2013-01-01 -1.803280  0.676899 -1.738037  0.201467  0.238384\n",
       "2013-01-02  0.106685  1.539657  0.002095  0.282269 -0.784882\n",
       "2013-01-03 -0.167944 -0.324380  0.043311 -0.164594  0.380188\n",
       "2013-01-04  0.453929 -0.349977  0.298247  0.020801 -1.343571\n",
       "2013-01-05  0.207915  1.754589  1.622041  0.285814  0.305385"
      ]
     },
     "execution_count": 18,
     "metadata": {},
     "output_type": "execute_result"
    }
   ],
   "source": [
    "df.head()\n"
   ]
  },
  {
   "cell_type": "code",
   "execution_count": 19,
   "id": "progressive-macintosh",
   "metadata": {},
   "outputs": [
    {
     "data": {
      "text/html": [
       "<div>\n",
       "<style scoped>\n",
       "    .dataframe tbody tr th:only-of-type {\n",
       "        vertical-align: middle;\n",
       "    }\n",
       "\n",
       "    .dataframe tbody tr th {\n",
       "        vertical-align: top;\n",
       "    }\n",
       "\n",
       "    .dataframe thead th {\n",
       "        text-align: right;\n",
       "    }\n",
       "</style>\n",
       "<table border=\"1\" class=\"dataframe\">\n",
       "  <thead>\n",
       "    <tr style=\"text-align: right;\">\n",
       "      <th></th>\n",
       "      <th>A</th>\n",
       "      <th>B</th>\n",
       "      <th>C</th>\n",
       "      <th>D</th>\n",
       "      <th>E</th>\n",
       "    </tr>\n",
       "  </thead>\n",
       "  <tbody>\n",
       "    <tr>\n",
       "      <th>2013-01-04</th>\n",
       "      <td>0.453929</td>\n",
       "      <td>-0.349977</td>\n",
       "      <td>0.298247</td>\n",
       "      <td>0.020801</td>\n",
       "      <td>-1.343571</td>\n",
       "    </tr>\n",
       "    <tr>\n",
       "      <th>2013-01-05</th>\n",
       "      <td>0.207915</td>\n",
       "      <td>1.754589</td>\n",
       "      <td>1.622041</td>\n",
       "      <td>0.285814</td>\n",
       "      <td>0.305385</td>\n",
       "    </tr>\n",
       "    <tr>\n",
       "      <th>2013-01-06</th>\n",
       "      <td>2.382057</td>\n",
       "      <td>1.595250</td>\n",
       "      <td>0.576587</td>\n",
       "      <td>-0.508793</td>\n",
       "      <td>-2.379871</td>\n",
       "    </tr>\n",
       "  </tbody>\n",
       "</table>\n",
       "</div>"
      ],
      "text/plain": [
       "                   A         B         C         D         E\n",
       "2013-01-04  0.453929 -0.349977  0.298247  0.020801 -1.343571\n",
       "2013-01-05  0.207915  1.754589  1.622041  0.285814  0.305385\n",
       "2013-01-06  2.382057  1.595250  0.576587 -0.508793 -2.379871"
      ]
     },
     "execution_count": 19,
     "metadata": {},
     "output_type": "execute_result"
    }
   ],
   "source": [
    "df.tail(3)"
   ]
  },
  {
   "cell_type": "code",
   "execution_count": 20,
   "id": "circular-shoot",
   "metadata": {},
   "outputs": [
    {
     "data": {
      "text/plain": [
       "DatetimeIndex(['2013-01-01', '2013-01-02', '2013-01-03', '2013-01-04',\n",
       "               '2013-01-05', '2013-01-06'],\n",
       "              dtype='datetime64[ns]', freq='D')"
      ]
     },
     "execution_count": 20,
     "metadata": {},
     "output_type": "execute_result"
    }
   ],
   "source": [
    "df.index"
   ]
  },
  {
   "cell_type": "code",
   "execution_count": 21,
   "id": "olive-hughes",
   "metadata": {},
   "outputs": [
    {
     "data": {
      "text/plain": [
       "Index(['A', 'B', 'C', 'D', 'E'], dtype='object')"
      ]
     },
     "execution_count": 21,
     "metadata": {},
     "output_type": "execute_result"
    }
   ],
   "source": [
    "df.columns"
   ]
  },
  {
   "cell_type": "code",
   "execution_count": 22,
   "id": "global-maria",
   "metadata": {},
   "outputs": [
    {
     "data": {
      "text/plain": [
       "array([[-1.80327968e+00,  6.76898781e-01, -1.73803664e+00,\n",
       "         2.01467108e-01,  2.38383682e-01],\n",
       "       [ 1.06685425e-01,  1.53965713e+00,  2.09487149e-03,\n",
       "         2.82269073e-01, -7.84881874e-01],\n",
       "       [-1.67943520e-01, -3.24379880e-01,  4.33114814e-02,\n",
       "        -1.64594318e-01,  3.80188243e-01],\n",
       "       [ 4.53929247e-01, -3.49977377e-01,  2.98246775e-01,\n",
       "         2.08013943e-02, -1.34357124e+00],\n",
       "       [ 2.07914918e-01,  1.75458909e+00,  1.62204078e+00,\n",
       "         2.85813710e-01,  3.05385091e-01],\n",
       "       [ 2.38205652e+00,  1.59524955e+00,  5.76586816e-01,\n",
       "        -5.08793091e-01, -2.37987082e+00]])"
      ]
     },
     "execution_count": 22,
     "metadata": {},
     "output_type": "execute_result"
    }
   ],
   "source": [
    "df.to_numpy()"
   ]
  },
  {
   "cell_type": "code",
   "execution_count": 23,
   "id": "korean-feelings",
   "metadata": {},
   "outputs": [
    {
     "data": {
      "text/plain": [
       "array([[1.0, Timestamp('2013-01-02 00:00:00'), 1.0, 3, 'test', 'foo'],\n",
       "       [1.0, Timestamp('2013-01-02 00:00:00'), 1.0, 3, 'train', 'foo'],\n",
       "       [1.0, Timestamp('2013-01-02 00:00:00'), 1.0, 3, 'test', 'foo'],\n",
       "       [1.0, Timestamp('2013-01-02 00:00:00'), 1.0, 3, 'train', 'foo']],\n",
       "      dtype=object)"
      ]
     },
     "execution_count": 23,
     "metadata": {},
     "output_type": "execute_result"
    }
   ],
   "source": [
    "df2.to_numpy()"
   ]
  },
  {
   "cell_type": "code",
   "execution_count": 24,
   "id": "preceding-intellectual",
   "metadata": {},
   "outputs": [
    {
     "data": {
      "text/html": [
       "<div>\n",
       "<style scoped>\n",
       "    .dataframe tbody tr th:only-of-type {\n",
       "        vertical-align: middle;\n",
       "    }\n",
       "\n",
       "    .dataframe tbody tr th {\n",
       "        vertical-align: top;\n",
       "    }\n",
       "\n",
       "    .dataframe thead th {\n",
       "        text-align: right;\n",
       "    }\n",
       "</style>\n",
       "<table border=\"1\" class=\"dataframe\">\n",
       "  <thead>\n",
       "    <tr style=\"text-align: right;\">\n",
       "      <th></th>\n",
       "      <th>A</th>\n",
       "      <th>B</th>\n",
       "      <th>C</th>\n",
       "      <th>D</th>\n",
       "      <th>E</th>\n",
       "    </tr>\n",
       "  </thead>\n",
       "  <tbody>\n",
       "    <tr>\n",
       "      <th>count</th>\n",
       "      <td>6.000000</td>\n",
       "      <td>6.000000</td>\n",
       "      <td>6.000000</td>\n",
       "      <td>6.000000</td>\n",
       "      <td>6.000000</td>\n",
       "    </tr>\n",
       "    <tr>\n",
       "      <th>mean</th>\n",
       "      <td>0.196560</td>\n",
       "      <td>0.815340</td>\n",
       "      <td>0.134041</td>\n",
       "      <td>0.019494</td>\n",
       "      <td>-0.597394</td>\n",
       "    </tr>\n",
       "    <tr>\n",
       "      <th>std</th>\n",
       "      <td>1.340378</td>\n",
       "      <td>0.968625</td>\n",
       "      <td>1.092453</td>\n",
       "      <td>0.311791</td>\n",
       "      <td>1.116992</td>\n",
       "    </tr>\n",
       "    <tr>\n",
       "      <th>min</th>\n",
       "      <td>-1.803280</td>\n",
       "      <td>-0.349977</td>\n",
       "      <td>-1.738037</td>\n",
       "      <td>-0.508793</td>\n",
       "      <td>-2.379871</td>\n",
       "    </tr>\n",
       "    <tr>\n",
       "      <th>25%</th>\n",
       "      <td>-0.099286</td>\n",
       "      <td>-0.074060</td>\n",
       "      <td>0.012399</td>\n",
       "      <td>-0.118245</td>\n",
       "      <td>-1.203899</td>\n",
       "    </tr>\n",
       "    <tr>\n",
       "      <th>50%</th>\n",
       "      <td>0.157300</td>\n",
       "      <td>1.108278</td>\n",
       "      <td>0.170779</td>\n",
       "      <td>0.111134</td>\n",
       "      <td>-0.273249</td>\n",
       "    </tr>\n",
       "    <tr>\n",
       "      <th>75%</th>\n",
       "      <td>0.392426</td>\n",
       "      <td>1.581351</td>\n",
       "      <td>0.507002</td>\n",
       "      <td>0.262069</td>\n",
       "      <td>0.288635</td>\n",
       "    </tr>\n",
       "    <tr>\n",
       "      <th>max</th>\n",
       "      <td>2.382057</td>\n",
       "      <td>1.754589</td>\n",
       "      <td>1.622041</td>\n",
       "      <td>0.285814</td>\n",
       "      <td>0.380188</td>\n",
       "    </tr>\n",
       "  </tbody>\n",
       "</table>\n",
       "</div>"
      ],
      "text/plain": [
       "              A         B         C         D         E\n",
       "count  6.000000  6.000000  6.000000  6.000000  6.000000\n",
       "mean   0.196560  0.815340  0.134041  0.019494 -0.597394\n",
       "std    1.340378  0.968625  1.092453  0.311791  1.116992\n",
       "min   -1.803280 -0.349977 -1.738037 -0.508793 -2.379871\n",
       "25%   -0.099286 -0.074060  0.012399 -0.118245 -1.203899\n",
       "50%    0.157300  1.108278  0.170779  0.111134 -0.273249\n",
       "75%    0.392426  1.581351  0.507002  0.262069  0.288635\n",
       "max    2.382057  1.754589  1.622041  0.285814  0.380188"
      ]
     },
     "execution_count": 24,
     "metadata": {},
     "output_type": "execute_result"
    }
   ],
   "source": [
    "df.describe()"
   ]
  },
  {
   "cell_type": "code",
   "execution_count": 25,
   "id": "asian-duplicate",
   "metadata": {},
   "outputs": [
    {
     "data": {
      "text/html": [
       "<div>\n",
       "<style scoped>\n",
       "    .dataframe tbody tr th:only-of-type {\n",
       "        vertical-align: middle;\n",
       "    }\n",
       "\n",
       "    .dataframe tbody tr th {\n",
       "        vertical-align: top;\n",
       "    }\n",
       "\n",
       "    .dataframe thead th {\n",
       "        text-align: right;\n",
       "    }\n",
       "</style>\n",
       "<table border=\"1\" class=\"dataframe\">\n",
       "  <thead>\n",
       "    <tr style=\"text-align: right;\">\n",
       "      <th></th>\n",
       "      <th>2013-01-01</th>\n",
       "      <th>2013-01-02</th>\n",
       "      <th>2013-01-03</th>\n",
       "      <th>2013-01-04</th>\n",
       "      <th>2013-01-05</th>\n",
       "      <th>2013-01-06</th>\n",
       "    </tr>\n",
       "  </thead>\n",
       "  <tbody>\n",
       "    <tr>\n",
       "      <th>A</th>\n",
       "      <td>-1.803280</td>\n",
       "      <td>0.106685</td>\n",
       "      <td>-0.167944</td>\n",
       "      <td>0.453929</td>\n",
       "      <td>0.207915</td>\n",
       "      <td>2.382057</td>\n",
       "    </tr>\n",
       "    <tr>\n",
       "      <th>B</th>\n",
       "      <td>0.676899</td>\n",
       "      <td>1.539657</td>\n",
       "      <td>-0.324380</td>\n",
       "      <td>-0.349977</td>\n",
       "      <td>1.754589</td>\n",
       "      <td>1.595250</td>\n",
       "    </tr>\n",
       "    <tr>\n",
       "      <th>C</th>\n",
       "      <td>-1.738037</td>\n",
       "      <td>0.002095</td>\n",
       "      <td>0.043311</td>\n",
       "      <td>0.298247</td>\n",
       "      <td>1.622041</td>\n",
       "      <td>0.576587</td>\n",
       "    </tr>\n",
       "    <tr>\n",
       "      <th>D</th>\n",
       "      <td>0.201467</td>\n",
       "      <td>0.282269</td>\n",
       "      <td>-0.164594</td>\n",
       "      <td>0.020801</td>\n",
       "      <td>0.285814</td>\n",
       "      <td>-0.508793</td>\n",
       "    </tr>\n",
       "    <tr>\n",
       "      <th>E</th>\n",
       "      <td>0.238384</td>\n",
       "      <td>-0.784882</td>\n",
       "      <td>0.380188</td>\n",
       "      <td>-1.343571</td>\n",
       "      <td>0.305385</td>\n",
       "      <td>-2.379871</td>\n",
       "    </tr>\n",
       "  </tbody>\n",
       "</table>\n",
       "</div>"
      ],
      "text/plain": [
       "   2013-01-01  2013-01-02  2013-01-03  2013-01-04  2013-01-05  2013-01-06\n",
       "A   -1.803280    0.106685   -0.167944    0.453929    0.207915    2.382057\n",
       "B    0.676899    1.539657   -0.324380   -0.349977    1.754589    1.595250\n",
       "C   -1.738037    0.002095    0.043311    0.298247    1.622041    0.576587\n",
       "D    0.201467    0.282269   -0.164594    0.020801    0.285814   -0.508793\n",
       "E    0.238384   -0.784882    0.380188   -1.343571    0.305385   -2.379871"
      ]
     },
     "execution_count": 25,
     "metadata": {},
     "output_type": "execute_result"
    }
   ],
   "source": [
    "df.T"
   ]
  },
  {
   "cell_type": "code",
   "execution_count": 26,
   "id": "incorporated-shareware",
   "metadata": {},
   "outputs": [
    {
     "data": {
      "text/html": [
       "<div>\n",
       "<style scoped>\n",
       "    .dataframe tbody tr th:only-of-type {\n",
       "        vertical-align: middle;\n",
       "    }\n",
       "\n",
       "    .dataframe tbody tr th {\n",
       "        vertical-align: top;\n",
       "    }\n",
       "\n",
       "    .dataframe thead th {\n",
       "        text-align: right;\n",
       "    }\n",
       "</style>\n",
       "<table border=\"1\" class=\"dataframe\">\n",
       "  <thead>\n",
       "    <tr style=\"text-align: right;\">\n",
       "      <th></th>\n",
       "      <th>E</th>\n",
       "      <th>D</th>\n",
       "      <th>C</th>\n",
       "      <th>B</th>\n",
       "      <th>A</th>\n",
       "    </tr>\n",
       "  </thead>\n",
       "  <tbody>\n",
       "    <tr>\n",
       "      <th>2013-01-01</th>\n",
       "      <td>0.238384</td>\n",
       "      <td>0.201467</td>\n",
       "      <td>-1.738037</td>\n",
       "      <td>0.676899</td>\n",
       "      <td>-1.803280</td>\n",
       "    </tr>\n",
       "    <tr>\n",
       "      <th>2013-01-02</th>\n",
       "      <td>-0.784882</td>\n",
       "      <td>0.282269</td>\n",
       "      <td>0.002095</td>\n",
       "      <td>1.539657</td>\n",
       "      <td>0.106685</td>\n",
       "    </tr>\n",
       "    <tr>\n",
       "      <th>2013-01-03</th>\n",
       "      <td>0.380188</td>\n",
       "      <td>-0.164594</td>\n",
       "      <td>0.043311</td>\n",
       "      <td>-0.324380</td>\n",
       "      <td>-0.167944</td>\n",
       "    </tr>\n",
       "    <tr>\n",
       "      <th>2013-01-04</th>\n",
       "      <td>-1.343571</td>\n",
       "      <td>0.020801</td>\n",
       "      <td>0.298247</td>\n",
       "      <td>-0.349977</td>\n",
       "      <td>0.453929</td>\n",
       "    </tr>\n",
       "    <tr>\n",
       "      <th>2013-01-05</th>\n",
       "      <td>0.305385</td>\n",
       "      <td>0.285814</td>\n",
       "      <td>1.622041</td>\n",
       "      <td>1.754589</td>\n",
       "      <td>0.207915</td>\n",
       "    </tr>\n",
       "    <tr>\n",
       "      <th>2013-01-06</th>\n",
       "      <td>-2.379871</td>\n",
       "      <td>-0.508793</td>\n",
       "      <td>0.576587</td>\n",
       "      <td>1.595250</td>\n",
       "      <td>2.382057</td>\n",
       "    </tr>\n",
       "  </tbody>\n",
       "</table>\n",
       "</div>"
      ],
      "text/plain": [
       "                   E         D         C         B         A\n",
       "2013-01-01  0.238384  0.201467 -1.738037  0.676899 -1.803280\n",
       "2013-01-02 -0.784882  0.282269  0.002095  1.539657  0.106685\n",
       "2013-01-03  0.380188 -0.164594  0.043311 -0.324380 -0.167944\n",
       "2013-01-04 -1.343571  0.020801  0.298247 -0.349977  0.453929\n",
       "2013-01-05  0.305385  0.285814  1.622041  1.754589  0.207915\n",
       "2013-01-06 -2.379871 -0.508793  0.576587  1.595250  2.382057"
      ]
     },
     "execution_count": 26,
     "metadata": {},
     "output_type": "execute_result"
    }
   ],
   "source": [
    "df.sort_index(axis=1, ascending=False)"
   ]
  },
  {
   "cell_type": "code",
   "execution_count": 27,
   "id": "grateful-handle",
   "metadata": {},
   "outputs": [
    {
     "data": {
      "text/html": [
       "<div>\n",
       "<style scoped>\n",
       "    .dataframe tbody tr th:only-of-type {\n",
       "        vertical-align: middle;\n",
       "    }\n",
       "\n",
       "    .dataframe tbody tr th {\n",
       "        vertical-align: top;\n",
       "    }\n",
       "\n",
       "    .dataframe thead th {\n",
       "        text-align: right;\n",
       "    }\n",
       "</style>\n",
       "<table border=\"1\" class=\"dataframe\">\n",
       "  <thead>\n",
       "    <tr style=\"text-align: right;\">\n",
       "      <th></th>\n",
       "      <th>A</th>\n",
       "      <th>B</th>\n",
       "      <th>C</th>\n",
       "      <th>D</th>\n",
       "      <th>E</th>\n",
       "    </tr>\n",
       "  </thead>\n",
       "  <tbody>\n",
       "    <tr>\n",
       "      <th>2013-01-04</th>\n",
       "      <td>0.453929</td>\n",
       "      <td>-0.349977</td>\n",
       "      <td>0.298247</td>\n",
       "      <td>0.020801</td>\n",
       "      <td>-1.343571</td>\n",
       "    </tr>\n",
       "    <tr>\n",
       "      <th>2013-01-03</th>\n",
       "      <td>-0.167944</td>\n",
       "      <td>-0.324380</td>\n",
       "      <td>0.043311</td>\n",
       "      <td>-0.164594</td>\n",
       "      <td>0.380188</td>\n",
       "    </tr>\n",
       "    <tr>\n",
       "      <th>2013-01-01</th>\n",
       "      <td>-1.803280</td>\n",
       "      <td>0.676899</td>\n",
       "      <td>-1.738037</td>\n",
       "      <td>0.201467</td>\n",
       "      <td>0.238384</td>\n",
       "    </tr>\n",
       "    <tr>\n",
       "      <th>2013-01-02</th>\n",
       "      <td>0.106685</td>\n",
       "      <td>1.539657</td>\n",
       "      <td>0.002095</td>\n",
       "      <td>0.282269</td>\n",
       "      <td>-0.784882</td>\n",
       "    </tr>\n",
       "    <tr>\n",
       "      <th>2013-01-06</th>\n",
       "      <td>2.382057</td>\n",
       "      <td>1.595250</td>\n",
       "      <td>0.576587</td>\n",
       "      <td>-0.508793</td>\n",
       "      <td>-2.379871</td>\n",
       "    </tr>\n",
       "    <tr>\n",
       "      <th>2013-01-05</th>\n",
       "      <td>0.207915</td>\n",
       "      <td>1.754589</td>\n",
       "      <td>1.622041</td>\n",
       "      <td>0.285814</td>\n",
       "      <td>0.305385</td>\n",
       "    </tr>\n",
       "  </tbody>\n",
       "</table>\n",
       "</div>"
      ],
      "text/plain": [
       "                   A         B         C         D         E\n",
       "2013-01-04  0.453929 -0.349977  0.298247  0.020801 -1.343571\n",
       "2013-01-03 -0.167944 -0.324380  0.043311 -0.164594  0.380188\n",
       "2013-01-01 -1.803280  0.676899 -1.738037  0.201467  0.238384\n",
       "2013-01-02  0.106685  1.539657  0.002095  0.282269 -0.784882\n",
       "2013-01-06  2.382057  1.595250  0.576587 -0.508793 -2.379871\n",
       "2013-01-05  0.207915  1.754589  1.622041  0.285814  0.305385"
      ]
     },
     "execution_count": 27,
     "metadata": {},
     "output_type": "execute_result"
    }
   ],
   "source": [
    "df.sort_values(by='B')"
   ]
  },
  {
   "cell_type": "code",
   "execution_count": 28,
   "id": "agricultural-verification",
   "metadata": {},
   "outputs": [
    {
     "data": {
      "text/plain": [
       "2013-01-01   -1.803280\n",
       "2013-01-02    0.106685\n",
       "2013-01-03   -0.167944\n",
       "2013-01-04    0.453929\n",
       "2013-01-05    0.207915\n",
       "2013-01-06    2.382057\n",
       "Freq: D, Name: A, dtype: float64"
      ]
     },
     "execution_count": 28,
     "metadata": {},
     "output_type": "execute_result"
    }
   ],
   "source": [
    "df['A']"
   ]
  },
  {
   "cell_type": "code",
   "execution_count": 29,
   "id": "answering-xerox",
   "metadata": {},
   "outputs": [
    {
     "data": {
      "text/html": [
       "<div>\n",
       "<style scoped>\n",
       "    .dataframe tbody tr th:only-of-type {\n",
       "        vertical-align: middle;\n",
       "    }\n",
       "\n",
       "    .dataframe tbody tr th {\n",
       "        vertical-align: top;\n",
       "    }\n",
       "\n",
       "    .dataframe thead th {\n",
       "        text-align: right;\n",
       "    }\n",
       "</style>\n",
       "<table border=\"1\" class=\"dataframe\">\n",
       "  <thead>\n",
       "    <tr style=\"text-align: right;\">\n",
       "      <th></th>\n",
       "      <th>A</th>\n",
       "      <th>B</th>\n",
       "      <th>C</th>\n",
       "      <th>D</th>\n",
       "      <th>E</th>\n",
       "    </tr>\n",
       "  </thead>\n",
       "  <tbody>\n",
       "    <tr>\n",
       "      <th>2013-01-01</th>\n",
       "      <td>-1.803280</td>\n",
       "      <td>0.676899</td>\n",
       "      <td>-1.738037</td>\n",
       "      <td>0.201467</td>\n",
       "      <td>0.238384</td>\n",
       "    </tr>\n",
       "    <tr>\n",
       "      <th>2013-01-02</th>\n",
       "      <td>0.106685</td>\n",
       "      <td>1.539657</td>\n",
       "      <td>0.002095</td>\n",
       "      <td>0.282269</td>\n",
       "      <td>-0.784882</td>\n",
       "    </tr>\n",
       "    <tr>\n",
       "      <th>2013-01-03</th>\n",
       "      <td>-0.167944</td>\n",
       "      <td>-0.324380</td>\n",
       "      <td>0.043311</td>\n",
       "      <td>-0.164594</td>\n",
       "      <td>0.380188</td>\n",
       "    </tr>\n",
       "  </tbody>\n",
       "</table>\n",
       "</div>"
      ],
      "text/plain": [
       "                   A         B         C         D         E\n",
       "2013-01-01 -1.803280  0.676899 -1.738037  0.201467  0.238384\n",
       "2013-01-02  0.106685  1.539657  0.002095  0.282269 -0.784882\n",
       "2013-01-03 -0.167944 -0.324380  0.043311 -0.164594  0.380188"
      ]
     },
     "execution_count": 29,
     "metadata": {},
     "output_type": "execute_result"
    }
   ],
   "source": [
    "df[0:3]"
   ]
  },
  {
   "cell_type": "code",
   "execution_count": 30,
   "id": "sublime-casting",
   "metadata": {},
   "outputs": [
    {
     "data": {
      "text/html": [
       "<div>\n",
       "<style scoped>\n",
       "    .dataframe tbody tr th:only-of-type {\n",
       "        vertical-align: middle;\n",
       "    }\n",
       "\n",
       "    .dataframe tbody tr th {\n",
       "        vertical-align: top;\n",
       "    }\n",
       "\n",
       "    .dataframe thead th {\n",
       "        text-align: right;\n",
       "    }\n",
       "</style>\n",
       "<table border=\"1\" class=\"dataframe\">\n",
       "  <thead>\n",
       "    <tr style=\"text-align: right;\">\n",
       "      <th></th>\n",
       "      <th>A</th>\n",
       "      <th>B</th>\n",
       "      <th>C</th>\n",
       "      <th>D</th>\n",
       "      <th>E</th>\n",
       "    </tr>\n",
       "  </thead>\n",
       "  <tbody>\n",
       "    <tr>\n",
       "      <th>2013-01-02</th>\n",
       "      <td>0.106685</td>\n",
       "      <td>1.539657</td>\n",
       "      <td>0.002095</td>\n",
       "      <td>0.282269</td>\n",
       "      <td>-0.784882</td>\n",
       "    </tr>\n",
       "    <tr>\n",
       "      <th>2013-01-03</th>\n",
       "      <td>-0.167944</td>\n",
       "      <td>-0.324380</td>\n",
       "      <td>0.043311</td>\n",
       "      <td>-0.164594</td>\n",
       "      <td>0.380188</td>\n",
       "    </tr>\n",
       "    <tr>\n",
       "      <th>2013-01-04</th>\n",
       "      <td>0.453929</td>\n",
       "      <td>-0.349977</td>\n",
       "      <td>0.298247</td>\n",
       "      <td>0.020801</td>\n",
       "      <td>-1.343571</td>\n",
       "    </tr>\n",
       "  </tbody>\n",
       "</table>\n",
       "</div>"
      ],
      "text/plain": [
       "                   A         B         C         D         E\n",
       "2013-01-02  0.106685  1.539657  0.002095  0.282269 -0.784882\n",
       "2013-01-03 -0.167944 -0.324380  0.043311 -0.164594  0.380188\n",
       "2013-01-04  0.453929 -0.349977  0.298247  0.020801 -1.343571"
      ]
     },
     "execution_count": 30,
     "metadata": {},
     "output_type": "execute_result"
    }
   ],
   "source": [
    "df['20130102':'20130104']"
   ]
  },
  {
   "cell_type": "code",
   "execution_count": 32,
   "id": "alive-villa",
   "metadata": {},
   "outputs": [
    {
     "data": {
      "text/html": [
       "<div>\n",
       "<style scoped>\n",
       "    .dataframe tbody tr th:only-of-type {\n",
       "        vertical-align: middle;\n",
       "    }\n",
       "\n",
       "    .dataframe tbody tr th {\n",
       "        vertical-align: top;\n",
       "    }\n",
       "\n",
       "    .dataframe thead th {\n",
       "        text-align: right;\n",
       "    }\n",
       "</style>\n",
       "<table border=\"1\" class=\"dataframe\">\n",
       "  <thead>\n",
       "    <tr style=\"text-align: right;\">\n",
       "      <th></th>\n",
       "      <th>A</th>\n",
       "      <th>B</th>\n",
       "    </tr>\n",
       "  </thead>\n",
       "  <tbody>\n",
       "    <tr>\n",
       "      <th>2013-01-01</th>\n",
       "      <td>-1.803280</td>\n",
       "      <td>0.676899</td>\n",
       "    </tr>\n",
       "    <tr>\n",
       "      <th>2013-01-02</th>\n",
       "      <td>0.106685</td>\n",
       "      <td>1.539657</td>\n",
       "    </tr>\n",
       "    <tr>\n",
       "      <th>2013-01-03</th>\n",
       "      <td>-0.167944</td>\n",
       "      <td>-0.324380</td>\n",
       "    </tr>\n",
       "    <tr>\n",
       "      <th>2013-01-04</th>\n",
       "      <td>0.453929</td>\n",
       "      <td>-0.349977</td>\n",
       "    </tr>\n",
       "    <tr>\n",
       "      <th>2013-01-05</th>\n",
       "      <td>0.207915</td>\n",
       "      <td>1.754589</td>\n",
       "    </tr>\n",
       "    <tr>\n",
       "      <th>2013-01-06</th>\n",
       "      <td>2.382057</td>\n",
       "      <td>1.595250</td>\n",
       "    </tr>\n",
       "  </tbody>\n",
       "</table>\n",
       "</div>"
      ],
      "text/plain": [
       "                   A         B\n",
       "2013-01-01 -1.803280  0.676899\n",
       "2013-01-02  0.106685  1.539657\n",
       "2013-01-03 -0.167944 -0.324380\n",
       "2013-01-04  0.453929 -0.349977\n",
       "2013-01-05  0.207915  1.754589\n",
       "2013-01-06  2.382057  1.595250"
      ]
     },
     "execution_count": 32,
     "metadata": {},
     "output_type": "execute_result"
    }
   ],
   "source": [
    "df.loc[:, ['A', 'B']]"
   ]
  },
  {
   "cell_type": "code",
   "execution_count": 31,
   "id": "small-technique",
   "metadata": {},
   "outputs": [
    {
     "data": {
      "text/plain": [
       "A   -1.803280\n",
       "B    0.676899\n",
       "C   -1.738037\n",
       "D    0.201467\n",
       "E    0.238384\n",
       "Name: 2013-01-01 00:00:00, dtype: float64"
      ]
     },
     "execution_count": 31,
     "metadata": {},
     "output_type": "execute_result"
    }
   ],
   "source": [
    "df.loc[dates[0]]"
   ]
  },
  {
   "cell_type": "code",
   "execution_count": 33,
   "id": "commercial-major",
   "metadata": {},
   "outputs": [
    {
     "data": {
      "text/html": [
       "<div>\n",
       "<style scoped>\n",
       "    .dataframe tbody tr th:only-of-type {\n",
       "        vertical-align: middle;\n",
       "    }\n",
       "\n",
       "    .dataframe tbody tr th {\n",
       "        vertical-align: top;\n",
       "    }\n",
       "\n",
       "    .dataframe thead th {\n",
       "        text-align: right;\n",
       "    }\n",
       "</style>\n",
       "<table border=\"1\" class=\"dataframe\">\n",
       "  <thead>\n",
       "    <tr style=\"text-align: right;\">\n",
       "      <th></th>\n",
       "      <th>A</th>\n",
       "      <th>B</th>\n",
       "    </tr>\n",
       "  </thead>\n",
       "  <tbody>\n",
       "    <tr>\n",
       "      <th>2013-01-02</th>\n",
       "      <td>0.106685</td>\n",
       "      <td>1.539657</td>\n",
       "    </tr>\n",
       "    <tr>\n",
       "      <th>2013-01-03</th>\n",
       "      <td>-0.167944</td>\n",
       "      <td>-0.324380</td>\n",
       "    </tr>\n",
       "    <tr>\n",
       "      <th>2013-01-04</th>\n",
       "      <td>0.453929</td>\n",
       "      <td>-0.349977</td>\n",
       "    </tr>\n",
       "  </tbody>\n",
       "</table>\n",
       "</div>"
      ],
      "text/plain": [
       "                   A         B\n",
       "2013-01-02  0.106685  1.539657\n",
       "2013-01-03 -0.167944 -0.324380\n",
       "2013-01-04  0.453929 -0.349977"
      ]
     },
     "execution_count": 33,
     "metadata": {},
     "output_type": "execute_result"
    }
   ],
   "source": [
    "df.loc['20130102':'20130104', ['A', 'B']]"
   ]
  },
  {
   "cell_type": "code",
   "execution_count": 34,
   "id": "married-liverpool",
   "metadata": {},
   "outputs": [
    {
     "data": {
      "text/plain": [
       "A    0.106685\n",
       "B    1.539657\n",
       "Name: 2013-01-02 00:00:00, dtype: float64"
      ]
     },
     "execution_count": 34,
     "metadata": {},
     "output_type": "execute_result"
    }
   ],
   "source": [
    "df.loc['20130102', ['A', 'B']]"
   ]
  },
  {
   "cell_type": "code",
   "execution_count": 35,
   "id": "formal-inventory",
   "metadata": {},
   "outputs": [
    {
     "data": {
      "text/plain": [
       "-1.8032796792998513"
      ]
     },
     "execution_count": 35,
     "metadata": {},
     "output_type": "execute_result"
    }
   ],
   "source": [
    "df.loc[dates[0], 'A']"
   ]
  },
  {
   "cell_type": "code",
   "execution_count": 36,
   "id": "civic-dispatch",
   "metadata": {},
   "outputs": [
    {
     "data": {
      "text/plain": [
       "-1.8032796792998513"
      ]
     },
     "execution_count": 36,
     "metadata": {},
     "output_type": "execute_result"
    }
   ],
   "source": [
    "df.at[dates[0], 'A']"
   ]
  },
  {
   "cell_type": "code",
   "execution_count": 37,
   "id": "fancy-vertical",
   "metadata": {},
   "outputs": [
    {
     "data": {
      "text/html": [
       "<div>\n",
       "<style scoped>\n",
       "    .dataframe tbody tr th:only-of-type {\n",
       "        vertical-align: middle;\n",
       "    }\n",
       "\n",
       "    .dataframe tbody tr th {\n",
       "        vertical-align: top;\n",
       "    }\n",
       "\n",
       "    .dataframe thead th {\n",
       "        text-align: right;\n",
       "    }\n",
       "</style>\n",
       "<table border=\"1\" class=\"dataframe\">\n",
       "  <thead>\n",
       "    <tr style=\"text-align: right;\">\n",
       "      <th></th>\n",
       "      <th>A</th>\n",
       "      <th>B</th>\n",
       "    </tr>\n",
       "  </thead>\n",
       "  <tbody>\n",
       "    <tr>\n",
       "      <th>2013-01-04</th>\n",
       "      <td>0.453929</td>\n",
       "      <td>-0.349977</td>\n",
       "    </tr>\n",
       "    <tr>\n",
       "      <th>2013-01-05</th>\n",
       "      <td>0.207915</td>\n",
       "      <td>1.754589</td>\n",
       "    </tr>\n",
       "  </tbody>\n",
       "</table>\n",
       "</div>"
      ],
      "text/plain": [
       "                   A         B\n",
       "2013-01-04  0.453929 -0.349977\n",
       "2013-01-05  0.207915  1.754589"
      ]
     },
     "execution_count": 37,
     "metadata": {},
     "output_type": "execute_result"
    }
   ],
   "source": [
    "df.iloc[3:5, 0:2]"
   ]
  },
  {
   "cell_type": "code",
   "execution_count": 38,
   "id": "colonial-terminology",
   "metadata": {},
   "outputs": [
    {
     "data": {
      "text/html": [
       "<div>\n",
       "<style scoped>\n",
       "    .dataframe tbody tr th:only-of-type {\n",
       "        vertical-align: middle;\n",
       "    }\n",
       "\n",
       "    .dataframe tbody tr th {\n",
       "        vertical-align: top;\n",
       "    }\n",
       "\n",
       "    .dataframe thead th {\n",
       "        text-align: right;\n",
       "    }\n",
       "</style>\n",
       "<table border=\"1\" class=\"dataframe\">\n",
       "  <thead>\n",
       "    <tr style=\"text-align: right;\">\n",
       "      <th></th>\n",
       "      <th>A</th>\n",
       "      <th>B</th>\n",
       "      <th>C</th>\n",
       "      <th>D</th>\n",
       "      <th>E</th>\n",
       "    </tr>\n",
       "  </thead>\n",
       "  <tbody>\n",
       "    <tr>\n",
       "      <th>2013-01-02</th>\n",
       "      <td>0.106685</td>\n",
       "      <td>1.539657</td>\n",
       "      <td>0.002095</td>\n",
       "      <td>0.282269</td>\n",
       "      <td>-0.784882</td>\n",
       "    </tr>\n",
       "    <tr>\n",
       "      <th>2013-01-03</th>\n",
       "      <td>-0.167944</td>\n",
       "      <td>-0.324380</td>\n",
       "      <td>0.043311</td>\n",
       "      <td>-0.164594</td>\n",
       "      <td>0.380188</td>\n",
       "    </tr>\n",
       "  </tbody>\n",
       "</table>\n",
       "</div>"
      ],
      "text/plain": [
       "                   A         B         C         D         E\n",
       "2013-01-02  0.106685  1.539657  0.002095  0.282269 -0.784882\n",
       "2013-01-03 -0.167944 -0.324380  0.043311 -0.164594  0.380188"
      ]
     },
     "execution_count": 38,
     "metadata": {},
     "output_type": "execute_result"
    }
   ],
   "source": [
    "df.iloc[1:3, :]"
   ]
  },
  {
   "cell_type": "code",
   "execution_count": 39,
   "id": "binary-victim",
   "metadata": {},
   "outputs": [
    {
     "data": {
      "text/html": [
       "<div>\n",
       "<style scoped>\n",
       "    .dataframe tbody tr th:only-of-type {\n",
       "        vertical-align: middle;\n",
       "    }\n",
       "\n",
       "    .dataframe tbody tr th {\n",
       "        vertical-align: top;\n",
       "    }\n",
       "\n",
       "    .dataframe thead th {\n",
       "        text-align: right;\n",
       "    }\n",
       "</style>\n",
       "<table border=\"1\" class=\"dataframe\">\n",
       "  <thead>\n",
       "    <tr style=\"text-align: right;\">\n",
       "      <th></th>\n",
       "      <th>A</th>\n",
       "      <th>C</th>\n",
       "    </tr>\n",
       "  </thead>\n",
       "  <tbody>\n",
       "    <tr>\n",
       "      <th>2013-01-02</th>\n",
       "      <td>0.106685</td>\n",
       "      <td>0.002095</td>\n",
       "    </tr>\n",
       "    <tr>\n",
       "      <th>2013-01-03</th>\n",
       "      <td>-0.167944</td>\n",
       "      <td>0.043311</td>\n",
       "    </tr>\n",
       "    <tr>\n",
       "      <th>2013-01-05</th>\n",
       "      <td>0.207915</td>\n",
       "      <td>1.622041</td>\n",
       "    </tr>\n",
       "  </tbody>\n",
       "</table>\n",
       "</div>"
      ],
      "text/plain": [
       "                   A         C\n",
       "2013-01-02  0.106685  0.002095\n",
       "2013-01-03 -0.167944  0.043311\n",
       "2013-01-05  0.207915  1.622041"
      ]
     },
     "execution_count": 39,
     "metadata": {},
     "output_type": "execute_result"
    }
   ],
   "source": [
    "df.iloc[[1, 2, 4], [0, 2]]"
   ]
  },
  {
   "cell_type": "code",
   "execution_count": 40,
   "id": "matched-reader",
   "metadata": {},
   "outputs": [
    {
     "data": {
      "text/html": [
       "<div>\n",
       "<style scoped>\n",
       "    .dataframe tbody tr th:only-of-type {\n",
       "        vertical-align: middle;\n",
       "    }\n",
       "\n",
       "    .dataframe tbody tr th {\n",
       "        vertical-align: top;\n",
       "    }\n",
       "\n",
       "    .dataframe thead th {\n",
       "        text-align: right;\n",
       "    }\n",
       "</style>\n",
       "<table border=\"1\" class=\"dataframe\">\n",
       "  <thead>\n",
       "    <tr style=\"text-align: right;\">\n",
       "      <th></th>\n",
       "      <th>B</th>\n",
       "      <th>C</th>\n",
       "    </tr>\n",
       "  </thead>\n",
       "  <tbody>\n",
       "    <tr>\n",
       "      <th>2013-01-01</th>\n",
       "      <td>0.676899</td>\n",
       "      <td>-1.738037</td>\n",
       "    </tr>\n",
       "    <tr>\n",
       "      <th>2013-01-02</th>\n",
       "      <td>1.539657</td>\n",
       "      <td>0.002095</td>\n",
       "    </tr>\n",
       "    <tr>\n",
       "      <th>2013-01-03</th>\n",
       "      <td>-0.324380</td>\n",
       "      <td>0.043311</td>\n",
       "    </tr>\n",
       "    <tr>\n",
       "      <th>2013-01-04</th>\n",
       "      <td>-0.349977</td>\n",
       "      <td>0.298247</td>\n",
       "    </tr>\n",
       "    <tr>\n",
       "      <th>2013-01-05</th>\n",
       "      <td>1.754589</td>\n",
       "      <td>1.622041</td>\n",
       "    </tr>\n",
       "    <tr>\n",
       "      <th>2013-01-06</th>\n",
       "      <td>1.595250</td>\n",
       "      <td>0.576587</td>\n",
       "    </tr>\n",
       "  </tbody>\n",
       "</table>\n",
       "</div>"
      ],
      "text/plain": [
       "                   B         C\n",
       "2013-01-01  0.676899 -1.738037\n",
       "2013-01-02  1.539657  0.002095\n",
       "2013-01-03 -0.324380  0.043311\n",
       "2013-01-04 -0.349977  0.298247\n",
       "2013-01-05  1.754589  1.622041\n",
       "2013-01-06  1.595250  0.576587"
      ]
     },
     "execution_count": 40,
     "metadata": {},
     "output_type": "execute_result"
    }
   ],
   "source": [
    "df.iloc[:, 1:3]"
   ]
  },
  {
   "cell_type": "code",
   "execution_count": 41,
   "id": "regular-shuttle",
   "metadata": {},
   "outputs": [
    {
     "data": {
      "text/html": [
       "<div>\n",
       "<style scoped>\n",
       "    .dataframe tbody tr th:only-of-type {\n",
       "        vertical-align: middle;\n",
       "    }\n",
       "\n",
       "    .dataframe tbody tr th {\n",
       "        vertical-align: top;\n",
       "    }\n",
       "\n",
       "    .dataframe thead th {\n",
       "        text-align: right;\n",
       "    }\n",
       "</style>\n",
       "<table border=\"1\" class=\"dataframe\">\n",
       "  <thead>\n",
       "    <tr style=\"text-align: right;\">\n",
       "      <th></th>\n",
       "      <th>A</th>\n",
       "      <th>B</th>\n",
       "      <th>C</th>\n",
       "      <th>D</th>\n",
       "      <th>E</th>\n",
       "    </tr>\n",
       "  </thead>\n",
       "  <tbody>\n",
       "    <tr>\n",
       "      <th>2013-01-02</th>\n",
       "      <td>0.106685</td>\n",
       "      <td>1.539657</td>\n",
       "      <td>0.002095</td>\n",
       "      <td>0.282269</td>\n",
       "      <td>-0.784882</td>\n",
       "    </tr>\n",
       "    <tr>\n",
       "      <th>2013-01-04</th>\n",
       "      <td>0.453929</td>\n",
       "      <td>-0.349977</td>\n",
       "      <td>0.298247</td>\n",
       "      <td>0.020801</td>\n",
       "      <td>-1.343571</td>\n",
       "    </tr>\n",
       "    <tr>\n",
       "      <th>2013-01-05</th>\n",
       "      <td>0.207915</td>\n",
       "      <td>1.754589</td>\n",
       "      <td>1.622041</td>\n",
       "      <td>0.285814</td>\n",
       "      <td>0.305385</td>\n",
       "    </tr>\n",
       "    <tr>\n",
       "      <th>2013-01-06</th>\n",
       "      <td>2.382057</td>\n",
       "      <td>1.595250</td>\n",
       "      <td>0.576587</td>\n",
       "      <td>-0.508793</td>\n",
       "      <td>-2.379871</td>\n",
       "    </tr>\n",
       "  </tbody>\n",
       "</table>\n",
       "</div>"
      ],
      "text/plain": [
       "                   A         B         C         D         E\n",
       "2013-01-02  0.106685  1.539657  0.002095  0.282269 -0.784882\n",
       "2013-01-04  0.453929 -0.349977  0.298247  0.020801 -1.343571\n",
       "2013-01-05  0.207915  1.754589  1.622041  0.285814  0.305385\n",
       "2013-01-06  2.382057  1.595250  0.576587 -0.508793 -2.379871"
      ]
     },
     "execution_count": 41,
     "metadata": {},
     "output_type": "execute_result"
    }
   ],
   "source": [
    "df[df.A > 0]"
   ]
  },
  {
   "cell_type": "code",
   "execution_count": 42,
   "id": "oriented-bishop",
   "metadata": {},
   "outputs": [
    {
     "data": {
      "text/html": [
       "<div>\n",
       "<style scoped>\n",
       "    .dataframe tbody tr th:only-of-type {\n",
       "        vertical-align: middle;\n",
       "    }\n",
       "\n",
       "    .dataframe tbody tr th {\n",
       "        vertical-align: top;\n",
       "    }\n",
       "\n",
       "    .dataframe thead th {\n",
       "        text-align: right;\n",
       "    }\n",
       "</style>\n",
       "<table border=\"1\" class=\"dataframe\">\n",
       "  <thead>\n",
       "    <tr style=\"text-align: right;\">\n",
       "      <th></th>\n",
       "      <th>A</th>\n",
       "      <th>B</th>\n",
       "      <th>C</th>\n",
       "      <th>D</th>\n",
       "      <th>E</th>\n",
       "    </tr>\n",
       "  </thead>\n",
       "  <tbody>\n",
       "    <tr>\n",
       "      <th>2013-01-01</th>\n",
       "      <td>NaN</td>\n",
       "      <td>0.676899</td>\n",
       "      <td>NaN</td>\n",
       "      <td>0.201467</td>\n",
       "      <td>0.238384</td>\n",
       "    </tr>\n",
       "    <tr>\n",
       "      <th>2013-01-02</th>\n",
       "      <td>0.106685</td>\n",
       "      <td>1.539657</td>\n",
       "      <td>0.002095</td>\n",
       "      <td>0.282269</td>\n",
       "      <td>NaN</td>\n",
       "    </tr>\n",
       "    <tr>\n",
       "      <th>2013-01-03</th>\n",
       "      <td>NaN</td>\n",
       "      <td>NaN</td>\n",
       "      <td>0.043311</td>\n",
       "      <td>NaN</td>\n",
       "      <td>0.380188</td>\n",
       "    </tr>\n",
       "    <tr>\n",
       "      <th>2013-01-04</th>\n",
       "      <td>0.453929</td>\n",
       "      <td>NaN</td>\n",
       "      <td>0.298247</td>\n",
       "      <td>0.020801</td>\n",
       "      <td>NaN</td>\n",
       "    </tr>\n",
       "    <tr>\n",
       "      <th>2013-01-05</th>\n",
       "      <td>0.207915</td>\n",
       "      <td>1.754589</td>\n",
       "      <td>1.622041</td>\n",
       "      <td>0.285814</td>\n",
       "      <td>0.305385</td>\n",
       "    </tr>\n",
       "    <tr>\n",
       "      <th>2013-01-06</th>\n",
       "      <td>2.382057</td>\n",
       "      <td>1.595250</td>\n",
       "      <td>0.576587</td>\n",
       "      <td>NaN</td>\n",
       "      <td>NaN</td>\n",
       "    </tr>\n",
       "  </tbody>\n",
       "</table>\n",
       "</div>"
      ],
      "text/plain": [
       "                   A         B         C         D         E\n",
       "2013-01-01       NaN  0.676899       NaN  0.201467  0.238384\n",
       "2013-01-02  0.106685  1.539657  0.002095  0.282269       NaN\n",
       "2013-01-03       NaN       NaN  0.043311       NaN  0.380188\n",
       "2013-01-04  0.453929       NaN  0.298247  0.020801       NaN\n",
       "2013-01-05  0.207915  1.754589  1.622041  0.285814  0.305385\n",
       "2013-01-06  2.382057  1.595250  0.576587       NaN       NaN"
      ]
     },
     "execution_count": 42,
     "metadata": {},
     "output_type": "execute_result"
    }
   ],
   "source": [
    "df[df > 0]"
   ]
  },
  {
   "cell_type": "code",
   "execution_count": 46,
   "id": "exotic-counter",
   "metadata": {},
   "outputs": [
    {
     "data": {
      "text/html": [
       "<div>\n",
       "<style scoped>\n",
       "    .dataframe tbody tr th:only-of-type {\n",
       "        vertical-align: middle;\n",
       "    }\n",
       "\n",
       "    .dataframe tbody tr th {\n",
       "        vertical-align: top;\n",
       "    }\n",
       "\n",
       "    .dataframe thead th {\n",
       "        text-align: right;\n",
       "    }\n",
       "</style>\n",
       "<table border=\"1\" class=\"dataframe\">\n",
       "  <thead>\n",
       "    <tr style=\"text-align: right;\">\n",
       "      <th></th>\n",
       "      <th>A</th>\n",
       "      <th>B</th>\n",
       "      <th>C</th>\n",
       "      <th>D</th>\n",
       "      <th>E</th>\n",
       "    </tr>\n",
       "  </thead>\n",
       "  <tbody>\n",
       "    <tr>\n",
       "      <th>2013-01-01</th>\n",
       "      <td>-1.803280</td>\n",
       "      <td>0.676899</td>\n",
       "      <td>-1.738037</td>\n",
       "      <td>0.201467</td>\n",
       "      <td>one</td>\n",
       "    </tr>\n",
       "    <tr>\n",
       "      <th>2013-01-02</th>\n",
       "      <td>0.106685</td>\n",
       "      <td>1.539657</td>\n",
       "      <td>0.002095</td>\n",
       "      <td>0.282269</td>\n",
       "      <td>one</td>\n",
       "    </tr>\n",
       "    <tr>\n",
       "      <th>2013-01-03</th>\n",
       "      <td>-0.167944</td>\n",
       "      <td>-0.324380</td>\n",
       "      <td>0.043311</td>\n",
       "      <td>-0.164594</td>\n",
       "      <td>two</td>\n",
       "    </tr>\n",
       "    <tr>\n",
       "      <th>2013-01-04</th>\n",
       "      <td>0.453929</td>\n",
       "      <td>-0.349977</td>\n",
       "      <td>0.298247</td>\n",
       "      <td>0.020801</td>\n",
       "      <td>three</td>\n",
       "    </tr>\n",
       "    <tr>\n",
       "      <th>2013-01-05</th>\n",
       "      <td>0.207915</td>\n",
       "      <td>1.754589</td>\n",
       "      <td>1.622041</td>\n",
       "      <td>0.285814</td>\n",
       "      <td>four</td>\n",
       "    </tr>\n",
       "    <tr>\n",
       "      <th>2013-01-06</th>\n",
       "      <td>2.382057</td>\n",
       "      <td>1.595250</td>\n",
       "      <td>0.576587</td>\n",
       "      <td>-0.508793</td>\n",
       "      <td>three</td>\n",
       "    </tr>\n",
       "  </tbody>\n",
       "</table>\n",
       "</div>"
      ],
      "text/plain": [
       "                   A         B         C         D      E\n",
       "2013-01-01 -1.803280  0.676899 -1.738037  0.201467    one\n",
       "2013-01-02  0.106685  1.539657  0.002095  0.282269    one\n",
       "2013-01-03 -0.167944 -0.324380  0.043311 -0.164594    two\n",
       "2013-01-04  0.453929 -0.349977  0.298247  0.020801  three\n",
       "2013-01-05  0.207915  1.754589  1.622041  0.285814   four\n",
       "2013-01-06  2.382057  1.595250  0.576587 -0.508793  three"
      ]
     },
     "execution_count": 46,
     "metadata": {},
     "output_type": "execute_result"
    }
   ],
   "source": [
    "df2 = df.copy()\n",
    "df2['E'] = ['one', 'one', 'two', 'three', 'four', 'three']\n",
    "df2"
   ]
  },
  {
   "cell_type": "code",
   "execution_count": 47,
   "id": "undefined-slide",
   "metadata": {},
   "outputs": [
    {
     "data": {
      "text/html": [
       "<div>\n",
       "<style scoped>\n",
       "    .dataframe tbody tr th:only-of-type {\n",
       "        vertical-align: middle;\n",
       "    }\n",
       "\n",
       "    .dataframe tbody tr th {\n",
       "        vertical-align: top;\n",
       "    }\n",
       "\n",
       "    .dataframe thead th {\n",
       "        text-align: right;\n",
       "    }\n",
       "</style>\n",
       "<table border=\"1\" class=\"dataframe\">\n",
       "  <thead>\n",
       "    <tr style=\"text-align: right;\">\n",
       "      <th></th>\n",
       "      <th>A</th>\n",
       "      <th>B</th>\n",
       "      <th>C</th>\n",
       "      <th>D</th>\n",
       "      <th>E</th>\n",
       "    </tr>\n",
       "  </thead>\n",
       "  <tbody>\n",
       "    <tr>\n",
       "      <th>2013-01-03</th>\n",
       "      <td>-0.167944</td>\n",
       "      <td>-0.324380</td>\n",
       "      <td>0.043311</td>\n",
       "      <td>-0.164594</td>\n",
       "      <td>two</td>\n",
       "    </tr>\n",
       "    <tr>\n",
       "      <th>2013-01-05</th>\n",
       "      <td>0.207915</td>\n",
       "      <td>1.754589</td>\n",
       "      <td>1.622041</td>\n",
       "      <td>0.285814</td>\n",
       "      <td>four</td>\n",
       "    </tr>\n",
       "  </tbody>\n",
       "</table>\n",
       "</div>"
      ],
      "text/plain": [
       "                   A         B         C         D     E\n",
       "2013-01-03 -0.167944 -0.324380  0.043311 -0.164594   two\n",
       "2013-01-05  0.207915  1.754589  1.622041  0.285814  four"
      ]
     },
     "execution_count": 47,
     "metadata": {},
     "output_type": "execute_result"
    }
   ],
   "source": [
    "df2[df2['E'].isin(['two', 'four'])]"
   ]
  },
  {
   "cell_type": "code",
   "execution_count": 48,
   "id": "cubic-garage",
   "metadata": {},
   "outputs": [
    {
     "data": {
      "text/plain": [
       "A    0.196560\n",
       "B    0.815340\n",
       "C    0.134041\n",
       "D    0.019494\n",
       "E   -0.597394\n",
       "dtype: float64"
      ]
     },
     "execution_count": 48,
     "metadata": {},
     "output_type": "execute_result"
    }
   ],
   "source": [
    "df.mean()"
   ]
  },
  {
   "cell_type": "code",
   "execution_count": 49,
   "id": "cooked-voice",
   "metadata": {},
   "outputs": [
    {
     "data": {
      "text/plain": [
       "2013-01-01   -0.484913\n",
       "2013-01-02    0.229165\n",
       "2013-01-03   -0.046684\n",
       "2013-01-04   -0.184114\n",
       "2013-01-05    0.835149\n",
       "2013-01-06    0.333046\n",
       "Freq: D, dtype: float64"
      ]
     },
     "execution_count": 49,
     "metadata": {},
     "output_type": "execute_result"
    }
   ],
   "source": [
    "df.mean(1)"
   ]
  },
  {
   "cell_type": "code",
   "execution_count": 51,
   "id": "greatest-interaction",
   "metadata": {},
   "outputs": [
    {
     "data": {
      "text/plain": [
       "2013-01-01    NaN\n",
       "2013-01-02    NaN\n",
       "2013-01-03    1.0\n",
       "2013-01-04    3.0\n",
       "2013-01-05    5.0\n",
       "2013-01-06    NaN\n",
       "Freq: D, dtype: float64"
      ]
     },
     "execution_count": 51,
     "metadata": {},
     "output_type": "execute_result"
    }
   ],
   "source": [
    "s = pd.Series([1, 3, 5, np.nan, 6, 8], index=dates).shift(2)\n",
    "s"
   ]
  },
  {
   "cell_type": "code",
   "execution_count": 52,
   "id": "developmental-broadway",
   "metadata": {},
   "outputs": [
    {
     "data": {
      "text/html": [
       "<div>\n",
       "<style scoped>\n",
       "    .dataframe tbody tr th:only-of-type {\n",
       "        vertical-align: middle;\n",
       "    }\n",
       "\n",
       "    .dataframe tbody tr th {\n",
       "        vertical-align: top;\n",
       "    }\n",
       "\n",
       "    .dataframe thead th {\n",
       "        text-align: right;\n",
       "    }\n",
       "</style>\n",
       "<table border=\"1\" class=\"dataframe\">\n",
       "  <thead>\n",
       "    <tr style=\"text-align: right;\">\n",
       "      <th></th>\n",
       "      <th>A</th>\n",
       "      <th>B</th>\n",
       "      <th>C</th>\n",
       "      <th>D</th>\n",
       "      <th>E</th>\n",
       "    </tr>\n",
       "  </thead>\n",
       "  <tbody>\n",
       "    <tr>\n",
       "      <th>2013-01-01</th>\n",
       "      <td>NaN</td>\n",
       "      <td>NaN</td>\n",
       "      <td>NaN</td>\n",
       "      <td>NaN</td>\n",
       "      <td>NaN</td>\n",
       "    </tr>\n",
       "    <tr>\n",
       "      <th>2013-01-02</th>\n",
       "      <td>NaN</td>\n",
       "      <td>NaN</td>\n",
       "      <td>NaN</td>\n",
       "      <td>NaN</td>\n",
       "      <td>NaN</td>\n",
       "    </tr>\n",
       "    <tr>\n",
       "      <th>2013-01-03</th>\n",
       "      <td>-1.167944</td>\n",
       "      <td>-1.324380</td>\n",
       "      <td>-0.956689</td>\n",
       "      <td>-1.164594</td>\n",
       "      <td>-0.619812</td>\n",
       "    </tr>\n",
       "    <tr>\n",
       "      <th>2013-01-04</th>\n",
       "      <td>-2.546071</td>\n",
       "      <td>-3.349977</td>\n",
       "      <td>-2.701753</td>\n",
       "      <td>-2.979199</td>\n",
       "      <td>-4.343571</td>\n",
       "    </tr>\n",
       "    <tr>\n",
       "      <th>2013-01-05</th>\n",
       "      <td>-4.792085</td>\n",
       "      <td>-3.245411</td>\n",
       "      <td>-3.377959</td>\n",
       "      <td>-4.714186</td>\n",
       "      <td>-4.694615</td>\n",
       "    </tr>\n",
       "    <tr>\n",
       "      <th>2013-01-06</th>\n",
       "      <td>NaN</td>\n",
       "      <td>NaN</td>\n",
       "      <td>NaN</td>\n",
       "      <td>NaN</td>\n",
       "      <td>NaN</td>\n",
       "    </tr>\n",
       "  </tbody>\n",
       "</table>\n",
       "</div>"
      ],
      "text/plain": [
       "                   A         B         C         D         E\n",
       "2013-01-01       NaN       NaN       NaN       NaN       NaN\n",
       "2013-01-02       NaN       NaN       NaN       NaN       NaN\n",
       "2013-01-03 -1.167944 -1.324380 -0.956689 -1.164594 -0.619812\n",
       "2013-01-04 -2.546071 -3.349977 -2.701753 -2.979199 -4.343571\n",
       "2013-01-05 -4.792085 -3.245411 -3.377959 -4.714186 -4.694615\n",
       "2013-01-06       NaN       NaN       NaN       NaN       NaN"
      ]
     },
     "execution_count": 52,
     "metadata": {},
     "output_type": "execute_result"
    }
   ],
   "source": [
    "df.sub(s, axis='index')"
   ]
  },
  {
   "cell_type": "code",
   "execution_count": 53,
   "id": "plain-canal",
   "metadata": {},
   "outputs": [
    {
     "data": {
      "text/html": [
       "<div>\n",
       "<style scoped>\n",
       "    .dataframe tbody tr th:only-of-type {\n",
       "        vertical-align: middle;\n",
       "    }\n",
       "\n",
       "    .dataframe tbody tr th {\n",
       "        vertical-align: top;\n",
       "    }\n",
       "\n",
       "    .dataframe thead th {\n",
       "        text-align: right;\n",
       "    }\n",
       "</style>\n",
       "<table border=\"1\" class=\"dataframe\">\n",
       "  <thead>\n",
       "    <tr style=\"text-align: right;\">\n",
       "      <th></th>\n",
       "      <th>A</th>\n",
       "      <th>B</th>\n",
       "      <th>C</th>\n",
       "      <th>D</th>\n",
       "      <th>E</th>\n",
       "    </tr>\n",
       "  </thead>\n",
       "  <tbody>\n",
       "    <tr>\n",
       "      <th>2013-01-01</th>\n",
       "      <td>-1.803280</td>\n",
       "      <td>0.676899</td>\n",
       "      <td>-1.738037</td>\n",
       "      <td>0.201467</td>\n",
       "      <td>0.238384</td>\n",
       "    </tr>\n",
       "    <tr>\n",
       "      <th>2013-01-02</th>\n",
       "      <td>-1.696594</td>\n",
       "      <td>2.216556</td>\n",
       "      <td>-1.735942</td>\n",
       "      <td>0.483736</td>\n",
       "      <td>-0.546498</td>\n",
       "    </tr>\n",
       "    <tr>\n",
       "      <th>2013-01-03</th>\n",
       "      <td>-1.864538</td>\n",
       "      <td>1.892176</td>\n",
       "      <td>-1.692630</td>\n",
       "      <td>0.319142</td>\n",
       "      <td>-0.166310</td>\n",
       "    </tr>\n",
       "    <tr>\n",
       "      <th>2013-01-04</th>\n",
       "      <td>-1.410609</td>\n",
       "      <td>1.542199</td>\n",
       "      <td>-1.394384</td>\n",
       "      <td>0.339943</td>\n",
       "      <td>-1.509881</td>\n",
       "    </tr>\n",
       "    <tr>\n",
       "      <th>2013-01-05</th>\n",
       "      <td>-1.202694</td>\n",
       "      <td>3.296788</td>\n",
       "      <td>0.227657</td>\n",
       "      <td>0.625757</td>\n",
       "      <td>-1.204496</td>\n",
       "    </tr>\n",
       "    <tr>\n",
       "      <th>2013-01-06</th>\n",
       "      <td>1.179363</td>\n",
       "      <td>4.892037</td>\n",
       "      <td>0.804244</td>\n",
       "      <td>0.116964</td>\n",
       "      <td>-3.584367</td>\n",
       "    </tr>\n",
       "  </tbody>\n",
       "</table>\n",
       "</div>"
      ],
      "text/plain": [
       "                   A         B         C         D         E\n",
       "2013-01-01 -1.803280  0.676899 -1.738037  0.201467  0.238384\n",
       "2013-01-02 -1.696594  2.216556 -1.735942  0.483736 -0.546498\n",
       "2013-01-03 -1.864538  1.892176 -1.692630  0.319142 -0.166310\n",
       "2013-01-04 -1.410609  1.542199 -1.394384  0.339943 -1.509881\n",
       "2013-01-05 -1.202694  3.296788  0.227657  0.625757 -1.204496\n",
       "2013-01-06  1.179363  4.892037  0.804244  0.116964 -3.584367"
      ]
     },
     "execution_count": 53,
     "metadata": {},
     "output_type": "execute_result"
    }
   ],
   "source": [
    "df.apply(np.cumsum)"
   ]
  },
  {
   "cell_type": "code",
   "execution_count": 54,
   "id": "driven-islam",
   "metadata": {},
   "outputs": [
    {
     "data": {
      "text/plain": [
       "A    4.185336\n",
       "B    2.104566\n",
       "C    3.360077\n",
       "D    0.794607\n",
       "E    2.760059\n",
       "dtype: float64"
      ]
     },
     "execution_count": 54,
     "metadata": {},
     "output_type": "execute_result"
    }
   ],
   "source": [
    "df.apply(lambda x: x.max() - x.min())"
   ]
  },
  {
   "cell_type": "code",
   "execution_count": 56,
   "id": "broke-paradise",
   "metadata": {},
   "outputs": [
    {
     "data": {
      "text/plain": [
       "0    2\n",
       "1    0\n",
       "2    1\n",
       "3    0\n",
       "4    3\n",
       "5    0\n",
       "6    3\n",
       "7    5\n",
       "8    5\n",
       "9    4\n",
       "dtype: int64"
      ]
     },
     "execution_count": 56,
     "metadata": {},
     "output_type": "execute_result"
    }
   ],
   "source": [
    "s = pd.Series(np.random.randint(0, 7, size=10))\n",
    "s"
   ]
  },
  {
   "cell_type": "code",
   "execution_count": 57,
   "id": "upset-contest",
   "metadata": {},
   "outputs": [
    {
     "data": {
      "text/plain": [
       "0    3\n",
       "3    2\n",
       "5    2\n",
       "1    1\n",
       "2    1\n",
       "4    1\n",
       "dtype: int64"
      ]
     },
     "execution_count": 57,
     "metadata": {},
     "output_type": "execute_result"
    }
   ],
   "source": [
    "s.value_counts()"
   ]
  },
  {
   "cell_type": "code",
   "execution_count": 59,
   "id": "vanilla-washer",
   "metadata": {},
   "outputs": [
    {
     "data": {
      "text/plain": [
       "0       A\n",
       "1       B\n",
       "2       C\n",
       "3    Aaba\n",
       "4    Baca\n",
       "5     NaN\n",
       "6    CABA\n",
       "7     dog\n",
       "8     cat\n",
       "dtype: object"
      ]
     },
     "execution_count": 59,
     "metadata": {},
     "output_type": "execute_result"
    }
   ],
   "source": [
    "s = pd.Series(['A', 'B', 'C', 'Aaba', 'Baca', np.nan, 'CABA', 'dog', 'cat'])\n",
    "s"
   ]
  },
  {
   "cell_type": "code",
   "execution_count": 60,
   "id": "korean-upset",
   "metadata": {},
   "outputs": [
    {
     "data": {
      "text/plain": [
       "0       a\n",
       "1       b\n",
       "2       c\n",
       "3    aaba\n",
       "4    baca\n",
       "5     NaN\n",
       "6    caba\n",
       "7     dog\n",
       "8     cat\n",
       "dtype: object"
      ]
     },
     "execution_count": 60,
     "metadata": {},
     "output_type": "execute_result"
    }
   ],
   "source": [
    "s.str.lower()"
   ]
  },
  {
   "cell_type": "code",
   "execution_count": 62,
   "id": "excellent-granny",
   "metadata": {},
   "outputs": [
    {
     "data": {
      "text/html": [
       "<div>\n",
       "<style scoped>\n",
       "    .dataframe tbody tr th:only-of-type {\n",
       "        vertical-align: middle;\n",
       "    }\n",
       "\n",
       "    .dataframe tbody tr th {\n",
       "        vertical-align: top;\n",
       "    }\n",
       "\n",
       "    .dataframe thead th {\n",
       "        text-align: right;\n",
       "    }\n",
       "</style>\n",
       "<table border=\"1\" class=\"dataframe\">\n",
       "  <thead>\n",
       "    <tr style=\"text-align: right;\">\n",
       "      <th></th>\n",
       "      <th>0</th>\n",
       "      <th>1</th>\n",
       "      <th>2</th>\n",
       "      <th>3</th>\n",
       "    </tr>\n",
       "  </thead>\n",
       "  <tbody>\n",
       "    <tr>\n",
       "      <th>0</th>\n",
       "      <td>-0.128916</td>\n",
       "      <td>1.251421</td>\n",
       "      <td>1.434649</td>\n",
       "      <td>-0.200243</td>\n",
       "    </tr>\n",
       "    <tr>\n",
       "      <th>1</th>\n",
       "      <td>-0.928406</td>\n",
       "      <td>-0.305154</td>\n",
       "      <td>-1.425855</td>\n",
       "      <td>0.277380</td>\n",
       "    </tr>\n",
       "    <tr>\n",
       "      <th>2</th>\n",
       "      <td>3.126080</td>\n",
       "      <td>0.381467</td>\n",
       "      <td>1.009064</td>\n",
       "      <td>-0.034898</td>\n",
       "    </tr>\n",
       "    <tr>\n",
       "      <th>3</th>\n",
       "      <td>0.796201</td>\n",
       "      <td>2.097590</td>\n",
       "      <td>1.462226</td>\n",
       "      <td>-1.771479</td>\n",
       "    </tr>\n",
       "    <tr>\n",
       "      <th>4</th>\n",
       "      <td>0.124882</td>\n",
       "      <td>0.798408</td>\n",
       "      <td>0.481550</td>\n",
       "      <td>-2.593451</td>\n",
       "    </tr>\n",
       "    <tr>\n",
       "      <th>5</th>\n",
       "      <td>0.023794</td>\n",
       "      <td>-0.181685</td>\n",
       "      <td>-1.388767</td>\n",
       "      <td>2.880722</td>\n",
       "    </tr>\n",
       "    <tr>\n",
       "      <th>6</th>\n",
       "      <td>0.693337</td>\n",
       "      <td>-0.990896</td>\n",
       "      <td>-0.074373</td>\n",
       "      <td>0.902260</td>\n",
       "    </tr>\n",
       "    <tr>\n",
       "      <th>7</th>\n",
       "      <td>1.232582</td>\n",
       "      <td>0.350919</td>\n",
       "      <td>-0.132461</td>\n",
       "      <td>-0.762330</td>\n",
       "    </tr>\n",
       "    <tr>\n",
       "      <th>8</th>\n",
       "      <td>0.626440</td>\n",
       "      <td>-0.398005</td>\n",
       "      <td>0.315546</td>\n",
       "      <td>0.838808</td>\n",
       "    </tr>\n",
       "    <tr>\n",
       "      <th>9</th>\n",
       "      <td>-0.896208</td>\n",
       "      <td>-1.548094</td>\n",
       "      <td>0.096979</td>\n",
       "      <td>1.158133</td>\n",
       "    </tr>\n",
       "  </tbody>\n",
       "</table>\n",
       "</div>"
      ],
      "text/plain": [
       "          0         1         2         3\n",
       "0 -0.128916  1.251421  1.434649 -0.200243\n",
       "1 -0.928406 -0.305154 -1.425855  0.277380\n",
       "2  3.126080  0.381467  1.009064 -0.034898\n",
       "3  0.796201  2.097590  1.462226 -1.771479\n",
       "4  0.124882  0.798408  0.481550 -2.593451\n",
       "5  0.023794 -0.181685 -1.388767  2.880722\n",
       "6  0.693337 -0.990896 -0.074373  0.902260\n",
       "7  1.232582  0.350919 -0.132461 -0.762330\n",
       "8  0.626440 -0.398005  0.315546  0.838808\n",
       "9 -0.896208 -1.548094  0.096979  1.158133"
      ]
     },
     "execution_count": 62,
     "metadata": {},
     "output_type": "execute_result"
    }
   ],
   "source": [
    "df = pd.DataFrame(np.random.randn(10, 4))\n",
    "df"
   ]
  },
  {
   "cell_type": "code",
   "execution_count": 63,
   "id": "entertaining-myrtle",
   "metadata": {},
   "outputs": [
    {
     "data": {
      "text/html": [
       "<div>\n",
       "<style scoped>\n",
       "    .dataframe tbody tr th:only-of-type {\n",
       "        vertical-align: middle;\n",
       "    }\n",
       "\n",
       "    .dataframe tbody tr th {\n",
       "        vertical-align: top;\n",
       "    }\n",
       "\n",
       "    .dataframe thead th {\n",
       "        text-align: right;\n",
       "    }\n",
       "</style>\n",
       "<table border=\"1\" class=\"dataframe\">\n",
       "  <thead>\n",
       "    <tr style=\"text-align: right;\">\n",
       "      <th></th>\n",
       "      <th>0</th>\n",
       "      <th>1</th>\n",
       "      <th>2</th>\n",
       "      <th>3</th>\n",
       "    </tr>\n",
       "  </thead>\n",
       "  <tbody>\n",
       "    <tr>\n",
       "      <th>0</th>\n",
       "      <td>-0.128916</td>\n",
       "      <td>1.251421</td>\n",
       "      <td>1.434649</td>\n",
       "      <td>-0.200243</td>\n",
       "    </tr>\n",
       "    <tr>\n",
       "      <th>1</th>\n",
       "      <td>-0.928406</td>\n",
       "      <td>-0.305154</td>\n",
       "      <td>-1.425855</td>\n",
       "      <td>0.277380</td>\n",
       "    </tr>\n",
       "    <tr>\n",
       "      <th>2</th>\n",
       "      <td>3.126080</td>\n",
       "      <td>0.381467</td>\n",
       "      <td>1.009064</td>\n",
       "      <td>-0.034898</td>\n",
       "    </tr>\n",
       "    <tr>\n",
       "      <th>3</th>\n",
       "      <td>0.796201</td>\n",
       "      <td>2.097590</td>\n",
       "      <td>1.462226</td>\n",
       "      <td>-1.771479</td>\n",
       "    </tr>\n",
       "    <tr>\n",
       "      <th>4</th>\n",
       "      <td>0.124882</td>\n",
       "      <td>0.798408</td>\n",
       "      <td>0.481550</td>\n",
       "      <td>-2.593451</td>\n",
       "    </tr>\n",
       "    <tr>\n",
       "      <th>5</th>\n",
       "      <td>0.023794</td>\n",
       "      <td>-0.181685</td>\n",
       "      <td>-1.388767</td>\n",
       "      <td>2.880722</td>\n",
       "    </tr>\n",
       "    <tr>\n",
       "      <th>6</th>\n",
       "      <td>0.693337</td>\n",
       "      <td>-0.990896</td>\n",
       "      <td>-0.074373</td>\n",
       "      <td>0.902260</td>\n",
       "    </tr>\n",
       "    <tr>\n",
       "      <th>7</th>\n",
       "      <td>1.232582</td>\n",
       "      <td>0.350919</td>\n",
       "      <td>-0.132461</td>\n",
       "      <td>-0.762330</td>\n",
       "    </tr>\n",
       "    <tr>\n",
       "      <th>8</th>\n",
       "      <td>0.626440</td>\n",
       "      <td>-0.398005</td>\n",
       "      <td>0.315546</td>\n",
       "      <td>0.838808</td>\n",
       "    </tr>\n",
       "    <tr>\n",
       "      <th>9</th>\n",
       "      <td>-0.896208</td>\n",
       "      <td>-1.548094</td>\n",
       "      <td>0.096979</td>\n",
       "      <td>1.158133</td>\n",
       "    </tr>\n",
       "  </tbody>\n",
       "</table>\n",
       "</div>"
      ],
      "text/plain": [
       "          0         1         2         3\n",
       "0 -0.128916  1.251421  1.434649 -0.200243\n",
       "1 -0.928406 -0.305154 -1.425855  0.277380\n",
       "2  3.126080  0.381467  1.009064 -0.034898\n",
       "3  0.796201  2.097590  1.462226 -1.771479\n",
       "4  0.124882  0.798408  0.481550 -2.593451\n",
       "5  0.023794 -0.181685 -1.388767  2.880722\n",
       "6  0.693337 -0.990896 -0.074373  0.902260\n",
       "7  1.232582  0.350919 -0.132461 -0.762330\n",
       "8  0.626440 -0.398005  0.315546  0.838808\n",
       "9 -0.896208 -1.548094  0.096979  1.158133"
      ]
     },
     "execution_count": 63,
     "metadata": {},
     "output_type": "execute_result"
    }
   ],
   "source": [
    "pieces = [df[:3], df[3:7], df[7:]]\n",
    "pd.concat(pieces)"
   ]
  },
  {
   "cell_type": "code",
   "execution_count": 65,
   "id": "finite-business",
   "metadata": {},
   "outputs": [
    {
     "data": {
      "text/html": [
       "<div>\n",
       "<style scoped>\n",
       "    .dataframe tbody tr th:only-of-type {\n",
       "        vertical-align: middle;\n",
       "    }\n",
       "\n",
       "    .dataframe tbody tr th {\n",
       "        vertical-align: top;\n",
       "    }\n",
       "\n",
       "    .dataframe thead th {\n",
       "        text-align: right;\n",
       "    }\n",
       "</style>\n",
       "<table border=\"1\" class=\"dataframe\">\n",
       "  <thead>\n",
       "    <tr style=\"text-align: right;\">\n",
       "      <th></th>\n",
       "      <th>A</th>\n",
       "      <th>B</th>\n",
       "      <th>C</th>\n",
       "      <th>D</th>\n",
       "    </tr>\n",
       "  </thead>\n",
       "  <tbody>\n",
       "    <tr>\n",
       "      <th>0</th>\n",
       "      <td>foo</td>\n",
       "      <td>one</td>\n",
       "      <td>-0.890608</td>\n",
       "      <td>1.023573</td>\n",
       "    </tr>\n",
       "    <tr>\n",
       "      <th>1</th>\n",
       "      <td>bar</td>\n",
       "      <td>one</td>\n",
       "      <td>1.115419</td>\n",
       "      <td>-0.826547</td>\n",
       "    </tr>\n",
       "    <tr>\n",
       "      <th>2</th>\n",
       "      <td>foo</td>\n",
       "      <td>two</td>\n",
       "      <td>0.347001</td>\n",
       "      <td>-1.149480</td>\n",
       "    </tr>\n",
       "    <tr>\n",
       "      <th>3</th>\n",
       "      <td>bar</td>\n",
       "      <td>three</td>\n",
       "      <td>1.379337</td>\n",
       "      <td>0.313572</td>\n",
       "    </tr>\n",
       "    <tr>\n",
       "      <th>4</th>\n",
       "      <td>foo</td>\n",
       "      <td>two</td>\n",
       "      <td>0.456360</td>\n",
       "      <td>-0.264911</td>\n",
       "    </tr>\n",
       "    <tr>\n",
       "      <th>5</th>\n",
       "      <td>bar</td>\n",
       "      <td>two</td>\n",
       "      <td>2.263963</td>\n",
       "      <td>-0.124036</td>\n",
       "    </tr>\n",
       "    <tr>\n",
       "      <th>6</th>\n",
       "      <td>foo</td>\n",
       "      <td>one</td>\n",
       "      <td>0.945542</td>\n",
       "      <td>-0.732588</td>\n",
       "    </tr>\n",
       "    <tr>\n",
       "      <th>7</th>\n",
       "      <td>foo</td>\n",
       "      <td>three</td>\n",
       "      <td>-0.737431</td>\n",
       "      <td>1.801308</td>\n",
       "    </tr>\n",
       "  </tbody>\n",
       "</table>\n",
       "</div>"
      ],
      "text/plain": [
       "     A      B         C         D\n",
       "0  foo    one -0.890608  1.023573\n",
       "1  bar    one  1.115419 -0.826547\n",
       "2  foo    two  0.347001 -1.149480\n",
       "3  bar  three  1.379337  0.313572\n",
       "4  foo    two  0.456360 -0.264911\n",
       "5  bar    two  2.263963 -0.124036\n",
       "6  foo    one  0.945542 -0.732588\n",
       "7  foo  three -0.737431  1.801308"
      ]
     },
     "execution_count": 65,
     "metadata": {},
     "output_type": "execute_result"
    }
   ],
   "source": [
    "df = pd.DataFrame({'A': ['foo', 'bar', 'foo', 'bar',\n",
    "   ....:                          'foo', 'bar', 'foo', 'foo'],\n",
    "   ....:                    'B': ['one', 'one', 'two', 'three',\n",
    "   ....:                          'two', 'two', 'one', 'three'],\n",
    "   ....:                    'C': np.random.randn(8),\n",
    "   ....:                    'D': np.random.randn(8)})\n",
    "   ....: \n",
    "df"
   ]
  },
  {
   "cell_type": "code",
   "execution_count": 67,
   "id": "whole-prescription",
   "metadata": {},
   "outputs": [
    {
     "data": {
      "text/html": [
       "<div>\n",
       "<style scoped>\n",
       "    .dataframe tbody tr th:only-of-type {\n",
       "        vertical-align: middle;\n",
       "    }\n",
       "\n",
       "    .dataframe tbody tr th {\n",
       "        vertical-align: top;\n",
       "    }\n",
       "\n",
       "    .dataframe thead th {\n",
       "        text-align: right;\n",
       "    }\n",
       "</style>\n",
       "<table border=\"1\" class=\"dataframe\">\n",
       "  <thead>\n",
       "    <tr style=\"text-align: right;\">\n",
       "      <th></th>\n",
       "      <th></th>\n",
       "      <th>C</th>\n",
       "      <th>D</th>\n",
       "    </tr>\n",
       "    <tr>\n",
       "      <th>A</th>\n",
       "      <th>B</th>\n",
       "      <th></th>\n",
       "      <th></th>\n",
       "    </tr>\n",
       "  </thead>\n",
       "  <tbody>\n",
       "    <tr>\n",
       "      <th rowspan=\"3\" valign=\"top\">bar</th>\n",
       "      <th>one</th>\n",
       "      <td>1.115419</td>\n",
       "      <td>-0.826547</td>\n",
       "    </tr>\n",
       "    <tr>\n",
       "      <th>three</th>\n",
       "      <td>1.379337</td>\n",
       "      <td>0.313572</td>\n",
       "    </tr>\n",
       "    <tr>\n",
       "      <th>two</th>\n",
       "      <td>2.263963</td>\n",
       "      <td>-0.124036</td>\n",
       "    </tr>\n",
       "    <tr>\n",
       "      <th rowspan=\"3\" valign=\"top\">foo</th>\n",
       "      <th>one</th>\n",
       "      <td>0.054934</td>\n",
       "      <td>0.290986</td>\n",
       "    </tr>\n",
       "    <tr>\n",
       "      <th>three</th>\n",
       "      <td>-0.737431</td>\n",
       "      <td>1.801308</td>\n",
       "    </tr>\n",
       "    <tr>\n",
       "      <th>two</th>\n",
       "      <td>0.803362</td>\n",
       "      <td>-1.414391</td>\n",
       "    </tr>\n",
       "  </tbody>\n",
       "</table>\n",
       "</div>"
      ],
      "text/plain": [
       "                  C         D\n",
       "A   B                        \n",
       "bar one    1.115419 -0.826547\n",
       "    three  1.379337  0.313572\n",
       "    two    2.263963 -0.124036\n",
       "foo one    0.054934  0.290986\n",
       "    three -0.737431  1.801308\n",
       "    two    0.803362 -1.414391"
      ]
     },
     "execution_count": 67,
     "metadata": {},
     "output_type": "execute_result"
    }
   ],
   "source": [
    "df.groupby(['A', 'B']).sum()"
   ]
  },
  {
   "cell_type": "code",
   "execution_count": 68,
   "id": "bulgarian-confusion",
   "metadata": {},
   "outputs": [],
   "source": [
    "rng = pd.date_range('1/1/2012', periods=100, freq='S')"
   ]
  },
  {
   "cell_type": "code",
   "execution_count": 66,
   "id": "initial-possession",
   "metadata": {},
   "outputs": [
    {
     "data": {
      "text/html": [
       "<div>\n",
       "<style scoped>\n",
       "    .dataframe tbody tr th:only-of-type {\n",
       "        vertical-align: middle;\n",
       "    }\n",
       "\n",
       "    .dataframe tbody tr th {\n",
       "        vertical-align: top;\n",
       "    }\n",
       "\n",
       "    .dataframe thead th {\n",
       "        text-align: right;\n",
       "    }\n",
       "</style>\n",
       "<table border=\"1\" class=\"dataframe\">\n",
       "  <thead>\n",
       "    <tr style=\"text-align: right;\">\n",
       "      <th></th>\n",
       "      <th>C</th>\n",
       "      <th>D</th>\n",
       "    </tr>\n",
       "    <tr>\n",
       "      <th>A</th>\n",
       "      <th></th>\n",
       "      <th></th>\n",
       "    </tr>\n",
       "  </thead>\n",
       "  <tbody>\n",
       "    <tr>\n",
       "      <th>bar</th>\n",
       "      <td>4.758719</td>\n",
       "      <td>-0.637011</td>\n",
       "    </tr>\n",
       "    <tr>\n",
       "      <th>foo</th>\n",
       "      <td>0.120866</td>\n",
       "      <td>0.677903</td>\n",
       "    </tr>\n",
       "  </tbody>\n",
       "</table>\n",
       "</div>"
      ],
      "text/plain": [
       "            C         D\n",
       "A                      \n",
       "bar  4.758719 -0.637011\n",
       "foo  0.120866  0.677903"
      ]
     },
     "execution_count": 66,
     "metadata": {},
     "output_type": "execute_result"
    }
   ],
   "source": [
    "df.groupby('A').sum()"
   ]
  },
  {
   "cell_type": "code",
   "execution_count": 71,
   "id": "positive-bouquet",
   "metadata": {
    "scrolled": true
   },
   "outputs": [
    {
     "data": {
      "text/plain": [
       "2012-01-01 00:00:00    280\n",
       "2012-01-01 00:00:01    445\n",
       "2012-01-01 00:00:02     51\n",
       "2012-01-01 00:00:03    146\n",
       "2012-01-01 00:00:04     13\n",
       "                      ... \n",
       "2012-01-01 00:01:35    373\n",
       "2012-01-01 00:01:36    220\n",
       "2012-01-01 00:01:37    395\n",
       "2012-01-01 00:01:38    263\n",
       "2012-01-01 00:01:39    480\n",
       "Freq: S, Length: 100, dtype: int64"
      ]
     },
     "execution_count": 71,
     "metadata": {},
     "output_type": "execute_result"
    }
   ],
   "source": [
    "rng = pd.date_range('1/1/2012', periods=100, freq='S')\n",
    "ts = pd.Series(np.random.randint(0, 500, len(rng)), index=rng)\n",
    "ts"
   ]
  },
  {
   "cell_type": "code",
   "execution_count": 72,
   "id": "shared-oxygen",
   "metadata": {},
   "outputs": [
    {
     "data": {
      "text/plain": [
       "2012-01-01    24693\n",
       "Freq: 5T, dtype: int64"
      ]
     },
     "execution_count": 72,
     "metadata": {},
     "output_type": "execute_result"
    }
   ],
   "source": [
    "ts.resample('5Min').sum()"
   ]
  },
  {
   "cell_type": "code",
   "execution_count": 76,
   "id": "disturbed-dividend",
   "metadata": {},
   "outputs": [
    {
     "data": {
      "text/plain": [
       "<matplotlib.axes._subplots.AxesSubplot at 0x7fe7f1c2bc10>"
      ]
     },
     "execution_count": 76,
     "metadata": {},
     "output_type": "execute_result"
    },
    {
     "data": {
      "image/png": "[encoded data removed]",
      "text/plain": [
       "<Figure size 432x288 with 1 Axes>"
      ]
     },
     "metadata": {
      "needs_background": "light"
     },
     "output_type": "display_data"
    }
   ],
   "source": [
    "ts = pd.Series(np.random.randn(1000),\n",
    "   .....:                index=pd.date_range('1/1/2000', periods=1000))\n",
    "   .....: \n",
    "ts = ts.cumsum()\n",
    "ts.plot()"
   ]
  },
  {
   "cell_type": "code",
   "execution_count": 91,
   "id": "similar-routine",
   "metadata": {},
   "outputs": [
    {
     "data": {
      "text/plain": [
       "<matplotlib.legend.Legend at 0x7fe7f22b2e20>"
      ]
     },
     "execution_count": 91,
     "metadata": {},
     "output_type": "execute_result"
    },
    {
     "data": {
      "text/plain": [
       "<Figure size 432x288 with 0 Axes>"
      ]
     },
     "metadata": {},
     "output_type": "display_data"
    },
    {
     "data": {
      "image/png": "[encoded data removed]",
      "text/plain": [
       "<Figure size 432x288 with 1 Axes>"
      ]
     },
     "metadata": {
      "needs_background": "light"
     },
     "output_type": "display_data"
    }
   ],
   "source": [
    "import matplotlib.pyplot as plt\n",
    "df = pd.DataFrame(np.random.randn(1000, 4), index=ts.index,columns=['A', 'B', 'C', 'D'])\n",
    "# print(df)\n",
    "df = df.cumsum()\n",
    "# print(df)\n",
    "plt.figure()\n",
    "df.plot()\n",
    "plt.legend(loc='best')"
   ]
  },
  {
   "cell_type": "code",
   "execution_count": 93,
   "id": "legal-peeing",
   "metadata": {},
   "outputs": [
    {
     "data": {
      "text/html": [
       "<div>\n",
       "<style scoped>\n",
       "    .dataframe tbody tr th:only-of-type {\n",
       "        vertical-align: middle;\n",
       "    }\n",
       "\n",
       "    .dataframe tbody tr th {\n",
       "        vertical-align: top;\n",
       "    }\n",
       "\n",
       "    .dataframe thead th {\n",
       "        text-align: right;\n",
       "    }\n",
       "</style>\n",
       "<table border=\"1\" class=\"dataframe\">\n",
       "  <thead>\n",
       "    <tr style=\"text-align: right;\">\n",
       "      <th></th>\n",
       "      <th>Unnamed: 0</th>\n",
       "      <th>A</th>\n",
       "      <th>B</th>\n",
       "      <th>C</th>\n",
       "      <th>D</th>\n",
       "    </tr>\n",
       "  </thead>\n",
       "  <tbody>\n",
       "    <tr>\n",
       "      <th>0</th>\n",
       "      <td>2000-01-01</td>\n",
       "      <td>0.887079</td>\n",
       "      <td>0.830083</td>\n",
       "      <td>-0.025567</td>\n",
       "      <td>0.819024</td>\n",
       "    </tr>\n",
       "    <tr>\n",
       "      <th>1</th>\n",
       "      <td>2000-01-02</td>\n",
       "      <td>1.279976</td>\n",
       "      <td>1.835965</td>\n",
       "      <td>0.948133</td>\n",
       "      <td>0.749912</td>\n",
       "    </tr>\n",
       "    <tr>\n",
       "      <th>2</th>\n",
       "      <td>2000-01-03</td>\n",
       "      <td>0.157480</td>\n",
       "      <td>0.028693</td>\n",
       "      <td>0.340009</td>\n",
       "      <td>1.032816</td>\n",
       "    </tr>\n",
       "    <tr>\n",
       "      <th>3</th>\n",
       "      <td>2000-01-04</td>\n",
       "      <td>-0.431499</td>\n",
       "      <td>0.917525</td>\n",
       "      <td>0.330404</td>\n",
       "      <td>1.138367</td>\n",
       "    </tr>\n",
       "    <tr>\n",
       "      <th>4</th>\n",
       "      <td>2000-01-05</td>\n",
       "      <td>-1.882664</td>\n",
       "      <td>-0.877080</td>\n",
       "      <td>-0.054977</td>\n",
       "      <td>0.374617</td>\n",
       "    </tr>\n",
       "    <tr>\n",
       "      <th>...</th>\n",
       "      <td>...</td>\n",
       "      <td>...</td>\n",
       "      <td>...</td>\n",
       "      <td>...</td>\n",
       "      <td>...</td>\n",
       "    </tr>\n",
       "    <tr>\n",
       "      <th>995</th>\n",
       "      <td>2002-09-22</td>\n",
       "      <td>-6.487507</td>\n",
       "      <td>23.962500</td>\n",
       "      <td>5.198416</td>\n",
       "      <td>16.486623</td>\n",
       "    </tr>\n",
       "    <tr>\n",
       "      <th>996</th>\n",
       "      <td>2002-09-23</td>\n",
       "      <td>-6.680296</td>\n",
       "      <td>24.428033</td>\n",
       "      <td>3.774973</td>\n",
       "      <td>15.269954</td>\n",
       "    </tr>\n",
       "    <tr>\n",
       "      <th>997</th>\n",
       "      <td>2002-09-24</td>\n",
       "      <td>-7.107732</td>\n",
       "      <td>23.261492</td>\n",
       "      <td>4.091650</td>\n",
       "      <td>17.503220</td>\n",
       "    </tr>\n",
       "    <tr>\n",
       "      <th>998</th>\n",
       "      <td>2002-09-25</td>\n",
       "      <td>-7.004807</td>\n",
       "      <td>23.229598</td>\n",
       "      <td>3.607465</td>\n",
       "      <td>16.706795</td>\n",
       "    </tr>\n",
       "    <tr>\n",
       "      <th>999</th>\n",
       "      <td>2002-09-26</td>\n",
       "      <td>-7.158230</td>\n",
       "      <td>24.192365</td>\n",
       "      <td>3.829199</td>\n",
       "      <td>15.927190</td>\n",
       "    </tr>\n",
       "  </tbody>\n",
       "</table>\n",
       "<p>1000 rows × 5 columns</p>\n",
       "</div>"
      ],
      "text/plain": [
       "     Unnamed: 0         A          B         C          D\n",
       "0    2000-01-01  0.887079   0.830083 -0.025567   0.819024\n",
       "1    2000-01-02  1.279976   1.835965  0.948133   0.749912\n",
       "2    2000-01-03  0.157480   0.028693  0.340009   1.032816\n",
       "3    2000-01-04 -0.431499   0.917525  0.330404   1.138367\n",
       "4    2000-01-05 -1.882664  -0.877080 -0.054977   0.374617\n",
       "..          ...       ...        ...       ...        ...\n",
       "995  2002-09-22 -6.487507  23.962500  5.198416  16.486623\n",
       "996  2002-09-23 -6.680296  24.428033  3.774973  15.269954\n",
       "997  2002-09-24 -7.107732  23.261492  4.091650  17.503220\n",
       "998  2002-09-25 -7.004807  23.229598  3.607465  16.706795\n",
       "999  2002-09-26 -7.158230  24.192365  3.829199  15.927190\n",
       "\n",
       "[1000 rows x 5 columns]"
      ]
     },
     "execution_count": 93,
     "metadata": {},
     "output_type": "execute_result"
    }
   ],
   "source": [
    "df.to_csv('foo.csv')\n",
    "\n",
    "pd.read_csv('foo.csv')"
   ]
  },
  {
   "cell_type": "code",
   "execution_count": 95,
   "id": "phantom-cheat",
   "metadata": {},
   "outputs": [],
   "source": [
    "df.to_hdf('foo.h5', 'df')"
   ]
  },
  {
   "cell_type": "code",
   "execution_count": 96,
   "id": "intermediate-egyptian",
   "metadata": {},
   "outputs": [
    {
     "data": {
      "text/html": [
       "<div>\n",
       "<style scoped>\n",
       "    .dataframe tbody tr th:only-of-type {\n",
       "        vertical-align: middle;\n",
       "    }\n",
       "\n",
       "    .dataframe tbody tr th {\n",
       "        vertical-align: top;\n",
       "    }\n",
       "\n",
       "    .dataframe thead th {\n",
       "        text-align: right;\n",
       "    }\n",
       "</style>\n",
       "<table border=\"1\" class=\"dataframe\">\n",
       "  <thead>\n",
       "    <tr style=\"text-align: right;\">\n",
       "      <th></th>\n",
       "      <th>A</th>\n",
       "      <th>B</th>\n",
       "      <th>C</th>\n",
       "      <th>D</th>\n",
       "    </tr>\n",
       "  </thead>\n",
       "  <tbody>\n",
       "    <tr>\n",
       "      <th>2000-01-01</th>\n",
       "      <td>0.887079</td>\n",
       "      <td>0.830083</td>\n",
       "      <td>-0.025567</td>\n",
       "      <td>0.819024</td>\n",
       "    </tr>\n",
       "    <tr>\n",
       "      <th>2000-01-02</th>\n",
       "      <td>1.279976</td>\n",
       "      <td>1.835965</td>\n",
       "      <td>0.948133</td>\n",
       "      <td>0.749912</td>\n",
       "    </tr>\n",
       "    <tr>\n",
       "      <th>2000-01-03</th>\n",
       "      <td>0.157480</td>\n",
       "      <td>0.028693</td>\n",
       "      <td>0.340009</td>\n",
       "      <td>1.032816</td>\n",
       "    </tr>\n",
       "    <tr>\n",
       "      <th>2000-01-04</th>\n",
       "      <td>-0.431499</td>\n",
       "      <td>0.917525</td>\n",
       "      <td>0.330404</td>\n",
       "      <td>1.138367</td>\n",
       "    </tr>\n",
       "    <tr>\n",
       "      <th>2000-01-05</th>\n",
       "      <td>-1.882664</td>\n",
       "      <td>-0.877080</td>\n",
       "      <td>-0.054977</td>\n",
       "      <td>0.374617</td>\n",
       "    </tr>\n",
       "    <tr>\n",
       "      <th>...</th>\n",
       "      <td>...</td>\n",
       "      <td>...</td>\n",
       "      <td>...</td>\n",
       "      <td>...</td>\n",
       "    </tr>\n",
       "    <tr>\n",
       "      <th>2002-09-22</th>\n",
       "      <td>-6.487507</td>\n",
       "      <td>23.962500</td>\n",
       "      <td>5.198416</td>\n",
       "      <td>16.486623</td>\n",
       "    </tr>\n",
       "    <tr>\n",
       "      <th>2002-09-23</th>\n",
       "      <td>-6.680296</td>\n",
       "      <td>24.428033</td>\n",
       "      <td>3.774973</td>\n",
       "      <td>15.269954</td>\n",
       "    </tr>\n",
       "    <tr>\n",
       "      <th>2002-09-24</th>\n",
       "      <td>-7.107732</td>\n",
       "      <td>23.261492</td>\n",
       "      <td>4.091650</td>\n",
       "      <td>17.503220</td>\n",
       "    </tr>\n",
       "    <tr>\n",
       "      <th>2002-09-25</th>\n",
       "      <td>-7.004807</td>\n",
       "      <td>23.229598</td>\n",
       "      <td>3.607465</td>\n",
       "      <td>16.706795</td>\n",
       "    </tr>\n",
       "    <tr>\n",
       "      <th>2002-09-26</th>\n",
       "      <td>-7.158230</td>\n",
       "      <td>24.192365</td>\n",
       "      <td>3.829199</td>\n",
       "      <td>15.927190</td>\n",
       "    </tr>\n",
       "  </tbody>\n",
       "</table>\n",
       "<p>1000 rows × 4 columns</p>\n",
       "</div>"
      ],
      "text/plain": [
       "                   A          B         C          D\n",
       "2000-01-01  0.887079   0.830083 -0.025567   0.819024\n",
       "2000-01-02  1.279976   1.835965  0.948133   0.749912\n",
       "2000-01-03  0.157480   0.028693  0.340009   1.032816\n",
       "2000-01-04 -0.431499   0.917525  0.330404   1.138367\n",
       "2000-01-05 -1.882664  -0.877080 -0.054977   0.374617\n",
       "...              ...        ...       ...        ...\n",
       "2002-09-22 -6.487507  23.962500  5.198416  16.486623\n",
       "2002-09-23 -6.680296  24.428033  3.774973  15.269954\n",
       "2002-09-24 -7.107732  23.261492  4.091650  17.503220\n",
       "2002-09-25 -7.004807  23.229598  3.607465  16.706795\n",
       "2002-09-26 -7.158230  24.192365  3.829199  15.927190\n",
       "\n",
       "[1000 rows x 4 columns]"
      ]
     },
     "execution_count": 96,
     "metadata": {},
     "output_type": "execute_result"
    }
   ],
   "source": [
    "pd.read_hdf('foo.h5', 'df')"
   ]
  },
  {
   "cell_type": "code",
   "execution_count": 99,
   "id": "continued-comedy",
   "metadata": {},
   "outputs": [
    {
     "data": {
      "text/html": [
       "<div>\n",
       "<style scoped>\n",
       "    .dataframe tbody tr th:only-of-type {\n",
       "        vertical-align: middle;\n",
       "    }\n",
       "\n",
       "    .dataframe tbody tr th {\n",
       "        vertical-align: top;\n",
       "    }\n",
       "\n",
       "    .dataframe thead th {\n",
       "        text-align: right;\n",
       "    }\n",
       "</style>\n",
       "<table border=\"1\" class=\"dataframe\">\n",
       "  <thead>\n",
       "    <tr style=\"text-align: right;\">\n",
       "      <th></th>\n",
       "      <th>Unnamed: 0</th>\n",
       "      <th>A</th>\n",
       "      <th>B</th>\n",
       "      <th>C</th>\n",
       "      <th>D</th>\n",
       "    </tr>\n",
       "  </thead>\n",
       "  <tbody>\n",
       "    <tr>\n",
       "      <th>0</th>\n",
       "      <td>2000-01-01</td>\n",
       "      <td>0.887079</td>\n",
       "      <td>0.830083</td>\n",
       "      <td>-0.025567</td>\n",
       "      <td>0.819024</td>\n",
       "    </tr>\n",
       "    <tr>\n",
       "      <th>1</th>\n",
       "      <td>2000-01-02</td>\n",
       "      <td>1.279976</td>\n",
       "      <td>1.835965</td>\n",
       "      <td>0.948133</td>\n",
       "      <td>0.749912</td>\n",
       "    </tr>\n",
       "    <tr>\n",
       "      <th>2</th>\n",
       "      <td>2000-01-03</td>\n",
       "      <td>0.157480</td>\n",
       "      <td>0.028693</td>\n",
       "      <td>0.340009</td>\n",
       "      <td>1.032816</td>\n",
       "    </tr>\n",
       "    <tr>\n",
       "      <th>3</th>\n",
       "      <td>2000-01-04</td>\n",
       "      <td>-0.431499</td>\n",
       "      <td>0.917525</td>\n",
       "      <td>0.330404</td>\n",
       "      <td>1.138367</td>\n",
       "    </tr>\n",
       "    <tr>\n",
       "      <th>4</th>\n",
       "      <td>2000-01-05</td>\n",
       "      <td>-1.882664</td>\n",
       "      <td>-0.877080</td>\n",
       "      <td>-0.054977</td>\n",
       "      <td>0.374617</td>\n",
       "    </tr>\n",
       "    <tr>\n",
       "      <th>...</th>\n",
       "      <td>...</td>\n",
       "      <td>...</td>\n",
       "      <td>...</td>\n",
       "      <td>...</td>\n",
       "      <td>...</td>\n",
       "    </tr>\n",
       "    <tr>\n",
       "      <th>995</th>\n",
       "      <td>2002-09-22</td>\n",
       "      <td>-6.487507</td>\n",
       "      <td>23.962500</td>\n",
       "      <td>5.198416</td>\n",
       "      <td>16.486623</td>\n",
       "    </tr>\n",
       "    <tr>\n",
       "      <th>996</th>\n",
       "      <td>2002-09-23</td>\n",
       "      <td>-6.680296</td>\n",
       "      <td>24.428033</td>\n",
       "      <td>3.774973</td>\n",
       "      <td>15.269954</td>\n",
       "    </tr>\n",
       "    <tr>\n",
       "      <th>997</th>\n",
       "      <td>2002-09-24</td>\n",
       "      <td>-7.107732</td>\n",
       "      <td>23.261492</td>\n",
       "      <td>4.091650</td>\n",
       "      <td>17.503220</td>\n",
       "    </tr>\n",
       "    <tr>\n",
       "      <th>998</th>\n",
       "      <td>2002-09-25</td>\n",
       "      <td>-7.004807</td>\n",
       "      <td>23.229598</td>\n",
       "      <td>3.607465</td>\n",
       "      <td>16.706795</td>\n",
       "    </tr>\n",
       "    <tr>\n",
       "      <th>999</th>\n",
       "      <td>2002-09-26</td>\n",
       "      <td>-7.158230</td>\n",
       "      <td>24.192365</td>\n",
       "      <td>3.829199</td>\n",
       "      <td>15.927190</td>\n",
       "    </tr>\n",
       "  </tbody>\n",
       "</table>\n",
       "<p>1000 rows × 5 columns</p>\n",
       "</div>"
      ],
      "text/plain": [
       "    Unnamed: 0         A          B         C          D\n",
       "0   2000-01-01  0.887079   0.830083 -0.025567   0.819024\n",
       "1   2000-01-02  1.279976   1.835965  0.948133   0.749912\n",
       "2   2000-01-03  0.157480   0.028693  0.340009   1.032816\n",
       "3   2000-01-04 -0.431499   0.917525  0.330404   1.138367\n",
       "4   2000-01-05 -1.882664  -0.877080 -0.054977   0.374617\n",
       "..         ...       ...        ...       ...        ...\n",
       "995 2002-09-22 -6.487507  23.962500  5.198416  16.486623\n",
       "996 2002-09-23 -6.680296  24.428033  3.774973  15.269954\n",
       "997 2002-09-24 -7.107732  23.261492  4.091650  17.503220\n",
       "998 2002-09-25 -7.004807  23.229598  3.607465  16.706795\n",
       "999 2002-09-26 -7.158230  24.192365  3.829199  15.927190\n",
       "\n",
       "[1000 rows x 5 columns]"
      ]
     },
     "execution_count": 99,
     "metadata": {},
     "output_type": "execute_result"
    }
   ],
   "source": [
    "df.to_excel('foo.xlsx', sheet_name='Sheet1')\n",
    "pd.read_excel('foo.xlsx', 'Sheet1', index_col=None, na_values=['NA'])"
   ]
  }
 ],
 "metadata": {
  "kernelspec": {
   "display_name": "Python 3",
   "language": "python",
   "name": "python3"
  },
  "language_info": {
   "codemirror_mode": {
    "name": "ipython",
    "version": 3
   },
   "file_extension": ".py",
   "mimetype": "text/x-python",
   "name": "python",
   "nbconvert_exporter": "python",
   "pygments_lexer": "ipython3",
   "version": "3.8.5"
  }
 },
 "nbformat": 4,
 "nbformat_minor": 5
}
